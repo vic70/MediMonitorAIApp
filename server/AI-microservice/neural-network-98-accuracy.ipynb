{
 "cells": [
  {
   "cell_type": "code",
   "execution_count": 1,
   "id": "707d4588",
   "metadata": {},
   "outputs": [
    {
     "data": {
      "text/plain": [
       "4"
      ]
     },
     "execution_count": 1,
     "metadata": {},
     "output_type": "execute_result"
    }
   ],
   "source": [
    "2*2"
   ]
  },
  {
   "cell_type": "code",
   "execution_count": 1,
   "id": "044ada62",
   "metadata": {
    "_cell_guid": "b1076dfc-b9ad-4769-8c92-a6c4dae69d19",
    "_uuid": "8f2839f25d086af736a60e9eeb907d3b93b6e0e5",
    "execution": {
     "iopub.execute_input": "2022-05-06T16:54:55.402995Z",
     "iopub.status.busy": "2022-05-06T16:54:55.402423Z",
     "iopub.status.idle": "2022-05-06T16:54:55.419386Z",
     "shell.execute_reply": "2022-05-06T16:54:55.418328Z"
    },
    "papermill": {
     "duration": 0.052421,
     "end_time": "2022-05-06T16:54:55.423099",
     "exception": false,
     "start_time": "2022-05-06T16:54:55.370678",
     "status": "completed"
    },
    "tags": []
   },
   "outputs": [],
   "source": [
    "# This Python 3 environment comes with many helpful analytics libraries installed\n",
    "# It is defined by the kaggle/python Docker image: https://github.com/kaggle/docker-python\n",
    "# For example, here's several helpful packages to load\n",
    "\n",
    "import numpy as np # linear algebra\n",
    "import pandas as pd # data processing, CSV file I/O (e.g. pd.read_csv)\n",
    "\n",
    "# Input data files are available in the read-only \"../input/\" directory\n",
    "# For example, running this (by clicking run or pressing Shift+Enter) will list all files under the input directory\n",
    "\n",
    "# import os\n",
    "# for dirname, _, filenames in os.walk('/kaggle/input'):\n",
    "#     for filename in filenames:\n",
    "#         print(os.path.join(dirname, filename))\n",
    "\n",
    "# You can write up to 20GB to the current directory (/kaggle/working/) that gets preserved as output when you create a version using \"Save & Run All\" \n",
    "# You can also write temporary files to /kaggle/temp/, but they won't be saved outside of the current session"
   ]
  },
  {
   "cell_type": "markdown",
   "id": "21e0e5a0",
   "metadata": {
    "papermill": {
     "duration": 0.029782,
     "end_time": "2022-05-06T16:54:55.483116",
     "exception": false,
     "start_time": "2022-05-06T16:54:55.453334",
     "status": "completed"
    },
    "tags": []
   },
   "source": [
    "<h2>Import libraries</h2>"
   ]
  },
  {
   "cell_type": "code",
   "execution_count": null,
   "id": "cb46d051",
   "metadata": {},
   "outputs": [],
   "source": []
  },
  {
   "cell_type": "code",
   "execution_count": 28,
   "id": "48b3aebe",
   "metadata": {
    "execution": {
     "iopub.execute_input": "2022-05-06T16:54:55.542408Z",
     "iopub.status.busy": "2022-05-06T16:54:55.541853Z",
     "iopub.status.idle": "2022-05-06T16:55:03.260674Z",
     "shell.execute_reply": "2022-05-06T16:55:03.259797Z"
    },
    "papermill": {
     "duration": 7.751448,
     "end_time": "2022-05-06T16:55:03.263290",
     "exception": false,
     "start_time": "2022-05-06T16:54:55.511842",
     "status": "completed"
    },
    "tags": []
   },
   "outputs": [],
   "source": [
    "import numpy as np \n",
    "import pandas as pd\n",
    "# import matplotlib.pyplot as plt\n",
    "# import xgboost\n",
    "# import seaborn as sns\n",
    "import tensorflow as tf\n",
    "from imblearn.over_sampling import SMOTE\n",
    "from tensorflow.keras import layers, models\n",
    "from sklearn.model_selection import train_test_split\n",
    "from sklearn.model_selection import GridSearchCV\n",
    "from sklearn.preprocessing import StandardScaler, LabelEncoder\n",
    "from sklearn.metrics import accuracy_score"
   ]
  },
  {
   "cell_type": "markdown",
   "id": "d2ad5b3f",
   "metadata": {
    "papermill": {
     "duration": 0.028341,
     "end_time": "2022-05-06T16:55:03.320732",
     "exception": false,
     "start_time": "2022-05-06T16:55:03.292391",
     "status": "completed"
    },
    "tags": []
   },
   "source": [
    "<h2>Load data</h2>"
   ]
  },
  {
   "cell_type": "code",
   "execution_count": 4,
   "id": "fa1ce50e",
   "metadata": {
    "execution": {
     "iopub.execute_input": "2022-05-06T16:55:03.380509Z",
     "iopub.status.busy": "2022-05-06T16:55:03.380211Z",
     "iopub.status.idle": "2022-05-06T16:55:03.418071Z",
     "shell.execute_reply": "2022-05-06T16:55:03.417189Z"
    },
    "papermill": {
     "duration": 0.071002,
     "end_time": "2022-05-06T16:55:03.420428",
     "exception": false,
     "start_time": "2022-05-06T16:55:03.349426",
     "status": "completed"
    },
    "tags": []
   },
   "outputs": [],
   "source": [
    "covid_data = pd.read_csv(\"./dataset/Covid Dataset.csv\")"
   ]
  },
  {
   "cell_type": "markdown",
   "id": "03851730",
   "metadata": {
    "papermill": {
     "duration": 0.028496,
     "end_time": "2022-05-06T16:55:03.478591",
     "exception": false,
     "start_time": "2022-05-06T16:55:03.450095",
     "status": "completed"
    },
    "tags": []
   },
   "source": [
    "<h2>Review data</h2>"
   ]
  },
  {
   "cell_type": "code",
   "execution_count": 5,
   "id": "15ac4173",
   "metadata": {
    "execution": {
     "iopub.execute_input": "2022-05-06T16:55:03.539772Z",
     "iopub.status.busy": "2022-05-06T16:55:03.539461Z",
     "iopub.status.idle": "2022-05-06T16:55:03.570091Z",
     "shell.execute_reply": "2022-05-06T16:55:03.569450Z"
    },
    "papermill": {
     "duration": 0.062946,
     "end_time": "2022-05-06T16:55:03.572138",
     "exception": false,
     "start_time": "2022-05-06T16:55:03.509192",
     "status": "completed"
    },
    "tags": []
   },
   "outputs": [
    {
     "data": {
      "text/html": [
       "<div>\n",
       "<style scoped>\n",
       "    .dataframe tbody tr th:only-of-type {\n",
       "        vertical-align: middle;\n",
       "    }\n",
       "\n",
       "    .dataframe tbody tr th {\n",
       "        vertical-align: top;\n",
       "    }\n",
       "\n",
       "    .dataframe thead th {\n",
       "        text-align: right;\n",
       "    }\n",
       "</style>\n",
       "<table border=\"1\" class=\"dataframe\">\n",
       "  <thead>\n",
       "    <tr style=\"text-align: right;\">\n",
       "      <th></th>\n",
       "      <th>Breathing Problem</th>\n",
       "      <th>Fever</th>\n",
       "      <th>Dry Cough</th>\n",
       "      <th>Sore throat</th>\n",
       "      <th>Running Nose</th>\n",
       "      <th>Asthma</th>\n",
       "      <th>Chronic Lung Disease</th>\n",
       "      <th>Headache</th>\n",
       "      <th>Heart Disease</th>\n",
       "      <th>Diabetes</th>\n",
       "      <th>...</th>\n",
       "      <th>Fatigue</th>\n",
       "      <th>Gastrointestinal</th>\n",
       "      <th>Abroad travel</th>\n",
       "      <th>Contact with COVID Patient</th>\n",
       "      <th>Attended Large Gathering</th>\n",
       "      <th>Visited Public Exposed Places</th>\n",
       "      <th>Family working in Public Exposed Places</th>\n",
       "      <th>Wearing Masks</th>\n",
       "      <th>Sanitization from Market</th>\n",
       "      <th>COVID-19</th>\n",
       "    </tr>\n",
       "  </thead>\n",
       "  <tbody>\n",
       "    <tr>\n",
       "      <th>0</th>\n",
       "      <td>Yes</td>\n",
       "      <td>Yes</td>\n",
       "      <td>Yes</td>\n",
       "      <td>Yes</td>\n",
       "      <td>Yes</td>\n",
       "      <td>No</td>\n",
       "      <td>No</td>\n",
       "      <td>No</td>\n",
       "      <td>No</td>\n",
       "      <td>Yes</td>\n",
       "      <td>...</td>\n",
       "      <td>Yes</td>\n",
       "      <td>Yes</td>\n",
       "      <td>No</td>\n",
       "      <td>Yes</td>\n",
       "      <td>No</td>\n",
       "      <td>Yes</td>\n",
       "      <td>Yes</td>\n",
       "      <td>No</td>\n",
       "      <td>No</td>\n",
       "      <td>Yes</td>\n",
       "    </tr>\n",
       "    <tr>\n",
       "      <th>1</th>\n",
       "      <td>Yes</td>\n",
       "      <td>Yes</td>\n",
       "      <td>Yes</td>\n",
       "      <td>Yes</td>\n",
       "      <td>No</td>\n",
       "      <td>Yes</td>\n",
       "      <td>Yes</td>\n",
       "      <td>Yes</td>\n",
       "      <td>No</td>\n",
       "      <td>No</td>\n",
       "      <td>...</td>\n",
       "      <td>Yes</td>\n",
       "      <td>No</td>\n",
       "      <td>No</td>\n",
       "      <td>No</td>\n",
       "      <td>Yes</td>\n",
       "      <td>Yes</td>\n",
       "      <td>No</td>\n",
       "      <td>No</td>\n",
       "      <td>No</td>\n",
       "      <td>Yes</td>\n",
       "    </tr>\n",
       "    <tr>\n",
       "      <th>2</th>\n",
       "      <td>Yes</td>\n",
       "      <td>Yes</td>\n",
       "      <td>Yes</td>\n",
       "      <td>Yes</td>\n",
       "      <td>Yes</td>\n",
       "      <td>Yes</td>\n",
       "      <td>Yes</td>\n",
       "      <td>Yes</td>\n",
       "      <td>No</td>\n",
       "      <td>Yes</td>\n",
       "      <td>...</td>\n",
       "      <td>Yes</td>\n",
       "      <td>Yes</td>\n",
       "      <td>Yes</td>\n",
       "      <td>No</td>\n",
       "      <td>No</td>\n",
       "      <td>No</td>\n",
       "      <td>No</td>\n",
       "      <td>No</td>\n",
       "      <td>No</td>\n",
       "      <td>Yes</td>\n",
       "    </tr>\n",
       "    <tr>\n",
       "      <th>3</th>\n",
       "      <td>Yes</td>\n",
       "      <td>Yes</td>\n",
       "      <td>Yes</td>\n",
       "      <td>No</td>\n",
       "      <td>No</td>\n",
       "      <td>Yes</td>\n",
       "      <td>No</td>\n",
       "      <td>No</td>\n",
       "      <td>Yes</td>\n",
       "      <td>Yes</td>\n",
       "      <td>...</td>\n",
       "      <td>No</td>\n",
       "      <td>No</td>\n",
       "      <td>Yes</td>\n",
       "      <td>No</td>\n",
       "      <td>Yes</td>\n",
       "      <td>Yes</td>\n",
       "      <td>No</td>\n",
       "      <td>No</td>\n",
       "      <td>No</td>\n",
       "      <td>Yes</td>\n",
       "    </tr>\n",
       "    <tr>\n",
       "      <th>4</th>\n",
       "      <td>Yes</td>\n",
       "      <td>Yes</td>\n",
       "      <td>Yes</td>\n",
       "      <td>Yes</td>\n",
       "      <td>Yes</td>\n",
       "      <td>No</td>\n",
       "      <td>Yes</td>\n",
       "      <td>Yes</td>\n",
       "      <td>Yes</td>\n",
       "      <td>Yes</td>\n",
       "      <td>...</td>\n",
       "      <td>No</td>\n",
       "      <td>Yes</td>\n",
       "      <td>No</td>\n",
       "      <td>Yes</td>\n",
       "      <td>No</td>\n",
       "      <td>Yes</td>\n",
       "      <td>No</td>\n",
       "      <td>No</td>\n",
       "      <td>No</td>\n",
       "      <td>Yes</td>\n",
       "    </tr>\n",
       "  </tbody>\n",
       "</table>\n",
       "<p>5 rows × 21 columns</p>\n",
       "</div>"
      ],
      "text/plain": [
       "  Breathing Problem Fever Dry Cough Sore throat Running Nose Asthma  \\\n",
       "0               Yes   Yes       Yes         Yes          Yes     No   \n",
       "1               Yes   Yes       Yes         Yes           No    Yes   \n",
       "2               Yes   Yes       Yes         Yes          Yes    Yes   \n",
       "3               Yes   Yes       Yes          No           No    Yes   \n",
       "4               Yes   Yes       Yes         Yes          Yes     No   \n",
       "\n",
       "  Chronic Lung Disease Headache Heart Disease Diabetes  ... Fatigue   \\\n",
       "0                   No       No            No      Yes  ...      Yes   \n",
       "1                  Yes      Yes            No       No  ...      Yes   \n",
       "2                  Yes      Yes            No      Yes  ...      Yes   \n",
       "3                   No       No           Yes      Yes  ...       No   \n",
       "4                  Yes      Yes           Yes      Yes  ...       No   \n",
       "\n",
       "  Gastrointestinal  Abroad travel Contact with COVID Patient  \\\n",
       "0               Yes            No                        Yes   \n",
       "1                No            No                         No   \n",
       "2               Yes           Yes                         No   \n",
       "3                No           Yes                         No   \n",
       "4               Yes            No                        Yes   \n",
       "\n",
       "  Attended Large Gathering Visited Public Exposed Places  \\\n",
       "0                       No                           Yes   \n",
       "1                      Yes                           Yes   \n",
       "2                       No                            No   \n",
       "3                      Yes                           Yes   \n",
       "4                       No                           Yes   \n",
       "\n",
       "  Family working in Public Exposed Places Wearing Masks  \\\n",
       "0                                     Yes            No   \n",
       "1                                      No            No   \n",
       "2                                      No            No   \n",
       "3                                      No            No   \n",
       "4                                      No            No   \n",
       "\n",
       "  Sanitization from Market COVID-19  \n",
       "0                       No      Yes  \n",
       "1                       No      Yes  \n",
       "2                       No      Yes  \n",
       "3                       No      Yes  \n",
       "4                       No      Yes  \n",
       "\n",
       "[5 rows x 21 columns]"
      ]
     },
     "execution_count": 5,
     "metadata": {},
     "output_type": "execute_result"
    }
   ],
   "source": [
    "covid_data.head()"
   ]
  },
  {
   "cell_type": "code",
   "execution_count": 6,
   "id": "7a4f5875",
   "metadata": {
    "execution": {
     "iopub.execute_input": "2022-05-06T16:55:03.632928Z",
     "iopub.status.busy": "2022-05-06T16:55:03.632576Z",
     "iopub.status.idle": "2022-05-06T16:55:03.709478Z",
     "shell.execute_reply": "2022-05-06T16:55:03.708619Z"
    },
    "papermill": {
     "duration": 0.110027,
     "end_time": "2022-05-06T16:55:03.711647",
     "exception": false,
     "start_time": "2022-05-06T16:55:03.601620",
     "status": "completed"
    },
    "tags": []
   },
   "outputs": [
    {
     "data": {
      "text/html": [
       "<div>\n",
       "<style scoped>\n",
       "    .dataframe tbody tr th:only-of-type {\n",
       "        vertical-align: middle;\n",
       "    }\n",
       "\n",
       "    .dataframe tbody tr th {\n",
       "        vertical-align: top;\n",
       "    }\n",
       "\n",
       "    .dataframe thead th {\n",
       "        text-align: right;\n",
       "    }\n",
       "</style>\n",
       "<table border=\"1\" class=\"dataframe\">\n",
       "  <thead>\n",
       "    <tr style=\"text-align: right;\">\n",
       "      <th></th>\n",
       "      <th>count</th>\n",
       "      <th>unique</th>\n",
       "      <th>top</th>\n",
       "      <th>freq</th>\n",
       "    </tr>\n",
       "  </thead>\n",
       "  <tbody>\n",
       "    <tr>\n",
       "      <th>Breathing Problem</th>\n",
       "      <td>5434</td>\n",
       "      <td>2</td>\n",
       "      <td>Yes</td>\n",
       "      <td>3620</td>\n",
       "    </tr>\n",
       "    <tr>\n",
       "      <th>Fever</th>\n",
       "      <td>5434</td>\n",
       "      <td>2</td>\n",
       "      <td>Yes</td>\n",
       "      <td>4273</td>\n",
       "    </tr>\n",
       "    <tr>\n",
       "      <th>Dry Cough</th>\n",
       "      <td>5434</td>\n",
       "      <td>2</td>\n",
       "      <td>Yes</td>\n",
       "      <td>4307</td>\n",
       "    </tr>\n",
       "    <tr>\n",
       "      <th>Sore throat</th>\n",
       "      <td>5434</td>\n",
       "      <td>2</td>\n",
       "      <td>Yes</td>\n",
       "      <td>3953</td>\n",
       "    </tr>\n",
       "    <tr>\n",
       "      <th>Running Nose</th>\n",
       "      <td>5434</td>\n",
       "      <td>2</td>\n",
       "      <td>Yes</td>\n",
       "      <td>2952</td>\n",
       "    </tr>\n",
       "    <tr>\n",
       "      <th>Asthma</th>\n",
       "      <td>5434</td>\n",
       "      <td>2</td>\n",
       "      <td>No</td>\n",
       "      <td>2920</td>\n",
       "    </tr>\n",
       "    <tr>\n",
       "      <th>Chronic Lung Disease</th>\n",
       "      <td>5434</td>\n",
       "      <td>2</td>\n",
       "      <td>No</td>\n",
       "      <td>2869</td>\n",
       "    </tr>\n",
       "    <tr>\n",
       "      <th>Headache</th>\n",
       "      <td>5434</td>\n",
       "      <td>2</td>\n",
       "      <td>Yes</td>\n",
       "      <td>2736</td>\n",
       "    </tr>\n",
       "    <tr>\n",
       "      <th>Heart Disease</th>\n",
       "      <td>5434</td>\n",
       "      <td>2</td>\n",
       "      <td>No</td>\n",
       "      <td>2911</td>\n",
       "    </tr>\n",
       "    <tr>\n",
       "      <th>Diabetes</th>\n",
       "      <td>5434</td>\n",
       "      <td>2</td>\n",
       "      <td>No</td>\n",
       "      <td>2846</td>\n",
       "    </tr>\n",
       "    <tr>\n",
       "      <th>Hyper Tension</th>\n",
       "      <td>5434</td>\n",
       "      <td>2</td>\n",
       "      <td>No</td>\n",
       "      <td>2771</td>\n",
       "    </tr>\n",
       "    <tr>\n",
       "      <th>Fatigue</th>\n",
       "      <td>5434</td>\n",
       "      <td>2</td>\n",
       "      <td>Yes</td>\n",
       "      <td>2821</td>\n",
       "    </tr>\n",
       "    <tr>\n",
       "      <th>Gastrointestinal</th>\n",
       "      <td>5434</td>\n",
       "      <td>2</td>\n",
       "      <td>No</td>\n",
       "      <td>2883</td>\n",
       "    </tr>\n",
       "    <tr>\n",
       "      <th>Abroad travel</th>\n",
       "      <td>5434</td>\n",
       "      <td>2</td>\n",
       "      <td>No</td>\n",
       "      <td>2983</td>\n",
       "    </tr>\n",
       "    <tr>\n",
       "      <th>Contact with COVID Patient</th>\n",
       "      <td>5434</td>\n",
       "      <td>2</td>\n",
       "      <td>Yes</td>\n",
       "      <td>2726</td>\n",
       "    </tr>\n",
       "    <tr>\n",
       "      <th>Attended Large Gathering</th>\n",
       "      <td>5434</td>\n",
       "      <td>2</td>\n",
       "      <td>No</td>\n",
       "      <td>2924</td>\n",
       "    </tr>\n",
       "    <tr>\n",
       "      <th>Visited Public Exposed Places</th>\n",
       "      <td>5434</td>\n",
       "      <td>2</td>\n",
       "      <td>Yes</td>\n",
       "      <td>2820</td>\n",
       "    </tr>\n",
       "    <tr>\n",
       "      <th>Family working in Public Exposed Places</th>\n",
       "      <td>5434</td>\n",
       "      <td>2</td>\n",
       "      <td>No</td>\n",
       "      <td>3172</td>\n",
       "    </tr>\n",
       "    <tr>\n",
       "      <th>Wearing Masks</th>\n",
       "      <td>5434</td>\n",
       "      <td>1</td>\n",
       "      <td>No</td>\n",
       "      <td>5434</td>\n",
       "    </tr>\n",
       "    <tr>\n",
       "      <th>Sanitization from Market</th>\n",
       "      <td>5434</td>\n",
       "      <td>1</td>\n",
       "      <td>No</td>\n",
       "      <td>5434</td>\n",
       "    </tr>\n",
       "    <tr>\n",
       "      <th>COVID-19</th>\n",
       "      <td>5434</td>\n",
       "      <td>2</td>\n",
       "      <td>Yes</td>\n",
       "      <td>4383</td>\n",
       "    </tr>\n",
       "  </tbody>\n",
       "</table>\n",
       "</div>"
      ],
      "text/plain": [
       "                                        count unique  top  freq\n",
       "Breathing Problem                        5434      2  Yes  3620\n",
       "Fever                                    5434      2  Yes  4273\n",
       "Dry Cough                                5434      2  Yes  4307\n",
       "Sore throat                              5434      2  Yes  3953\n",
       "Running Nose                             5434      2  Yes  2952\n",
       "Asthma                                   5434      2   No  2920\n",
       "Chronic Lung Disease                     5434      2   No  2869\n",
       "Headache                                 5434      2  Yes  2736\n",
       "Heart Disease                            5434      2   No  2911\n",
       "Diabetes                                 5434      2   No  2846\n",
       "Hyper Tension                            5434      2   No  2771\n",
       "Fatigue                                  5434      2  Yes  2821\n",
       "Gastrointestinal                         5434      2   No  2883\n",
       "Abroad travel                            5434      2   No  2983\n",
       "Contact with COVID Patient               5434      2  Yes  2726\n",
       "Attended Large Gathering                 5434      2   No  2924\n",
       "Visited Public Exposed Places            5434      2  Yes  2820\n",
       "Family working in Public Exposed Places  5434      2   No  3172\n",
       "Wearing Masks                            5434      1   No  5434\n",
       "Sanitization from Market                 5434      1   No  5434\n",
       "COVID-19                                 5434      2  Yes  4383"
      ]
     },
     "execution_count": 6,
     "metadata": {},
     "output_type": "execute_result"
    }
   ],
   "source": [
    "covid_data.describe().T"
   ]
  },
  {
   "cell_type": "code",
   "execution_count": 7,
   "id": "95fc7681",
   "metadata": {
    "execution": {
     "iopub.execute_input": "2022-05-06T16:55:03.775513Z",
     "iopub.status.busy": "2022-05-06T16:55:03.774694Z",
     "iopub.status.idle": "2022-05-06T16:55:03.803191Z",
     "shell.execute_reply": "2022-05-06T16:55:03.802162Z"
    },
    "papermill": {
     "duration": 0.06232,
     "end_time": "2022-05-06T16:55:03.805734",
     "exception": false,
     "start_time": "2022-05-06T16:55:03.743414",
     "status": "completed"
    },
    "tags": []
   },
   "outputs": [
    {
     "name": "stdout",
     "output_type": "stream",
     "text": [
      "<class 'pandas.core.frame.DataFrame'>\n",
      "RangeIndex: 5434 entries, 0 to 5433\n",
      "Data columns (total 21 columns):\n",
      " #   Column                                   Non-Null Count  Dtype \n",
      "---  ------                                   --------------  ----- \n",
      " 0   Breathing Problem                        5434 non-null   object\n",
      " 1   Fever                                    5434 non-null   object\n",
      " 2   Dry Cough                                5434 non-null   object\n",
      " 3   Sore throat                              5434 non-null   object\n",
      " 4   Running Nose                             5434 non-null   object\n",
      " 5   Asthma                                   5434 non-null   object\n",
      " 6   Chronic Lung Disease                     5434 non-null   object\n",
      " 7   Headache                                 5434 non-null   object\n",
      " 8   Heart Disease                            5434 non-null   object\n",
      " 9   Diabetes                                 5434 non-null   object\n",
      " 10  Hyper Tension                            5434 non-null   object\n",
      " 11  Fatigue                                  5434 non-null   object\n",
      " 12  Gastrointestinal                         5434 non-null   object\n",
      " 13  Abroad travel                            5434 non-null   object\n",
      " 14  Contact with COVID Patient               5434 non-null   object\n",
      " 15  Attended Large Gathering                 5434 non-null   object\n",
      " 16  Visited Public Exposed Places            5434 non-null   object\n",
      " 17  Family working in Public Exposed Places  5434 non-null   object\n",
      " 18  Wearing Masks                            5434 non-null   object\n",
      " 19  Sanitization from Market                 5434 non-null   object\n",
      " 20  COVID-19                                 5434 non-null   object\n",
      "dtypes: object(21)\n",
      "memory usage: 891.6+ KB\n"
     ]
    }
   ],
   "source": [
    "covid_data.info()"
   ]
  },
  {
   "cell_type": "code",
   "execution_count": 8,
   "id": "15e1f3b0",
   "metadata": {
    "execution": {
     "iopub.execute_input": "2022-05-06T16:55:03.870089Z",
     "iopub.status.busy": "2022-05-06T16:55:03.869782Z",
     "iopub.status.idle": "2022-05-06T16:55:03.890639Z",
     "shell.execute_reply": "2022-05-06T16:55:03.889787Z"
    },
    "papermill": {
     "duration": 0.055604,
     "end_time": "2022-05-06T16:55:03.893013",
     "exception": false,
     "start_time": "2022-05-06T16:55:03.837409",
     "status": "completed"
    },
    "tags": []
   },
   "outputs": [
    {
     "data": {
      "text/plain": [
       "Breathing Problem                          0\n",
       "Fever                                      0\n",
       "Dry Cough                                  0\n",
       "Sore throat                                0\n",
       "Running Nose                               0\n",
       "Asthma                                     0\n",
       "Chronic Lung Disease                       0\n",
       "Headache                                   0\n",
       "Heart Disease                              0\n",
       "Diabetes                                   0\n",
       "Hyper Tension                              0\n",
       "Fatigue                                    0\n",
       "Gastrointestinal                           0\n",
       "Abroad travel                              0\n",
       "Contact with COVID Patient                 0\n",
       "Attended Large Gathering                   0\n",
       "Visited Public Exposed Places              0\n",
       "Family working in Public Exposed Places    0\n",
       "Wearing Masks                              0\n",
       "Sanitization from Market                   0\n",
       "COVID-19                                   0\n",
       "dtype: int64"
      ]
     },
     "execution_count": 8,
     "metadata": {},
     "output_type": "execute_result"
    }
   ],
   "source": [
    "# As we can see there are only categorical data\n",
    "# We should check for some N/A and null cells\n",
    "covid_data.isna().sum()"
   ]
  },
  {
   "cell_type": "code",
   "execution_count": 9,
   "id": "f44aa96b",
   "metadata": {
    "execution": {
     "iopub.execute_input": "2022-05-06T16:55:03.958632Z",
     "iopub.status.busy": "2022-05-06T16:55:03.958312Z",
     "iopub.status.idle": "2022-05-06T16:55:03.979112Z",
     "shell.execute_reply": "2022-05-06T16:55:03.978243Z"
    },
    "papermill": {
     "duration": 0.055327,
     "end_time": "2022-05-06T16:55:03.981175",
     "exception": false,
     "start_time": "2022-05-06T16:55:03.925848",
     "status": "completed"
    },
    "tags": []
   },
   "outputs": [
    {
     "data": {
      "text/plain": [
       "Breathing Problem                          0\n",
       "Fever                                      0\n",
       "Dry Cough                                  0\n",
       "Sore throat                                0\n",
       "Running Nose                               0\n",
       "Asthma                                     0\n",
       "Chronic Lung Disease                       0\n",
       "Headache                                   0\n",
       "Heart Disease                              0\n",
       "Diabetes                                   0\n",
       "Hyper Tension                              0\n",
       "Fatigue                                    0\n",
       "Gastrointestinal                           0\n",
       "Abroad travel                              0\n",
       "Contact with COVID Patient                 0\n",
       "Attended Large Gathering                   0\n",
       "Visited Public Exposed Places              0\n",
       "Family working in Public Exposed Places    0\n",
       "Wearing Masks                              0\n",
       "Sanitization from Market                   0\n",
       "COVID-19                                   0\n",
       "dtype: int64"
      ]
     },
     "execution_count": 9,
     "metadata": {},
     "output_type": "execute_result"
    }
   ],
   "source": [
    "covid_data.isnull().sum()"
   ]
  },
  {
   "cell_type": "code",
   "execution_count": 10,
   "id": "e21068c7",
   "metadata": {
    "execution": {
     "iopub.execute_input": "2022-05-06T16:55:04.046570Z",
     "iopub.status.busy": "2022-05-06T16:55:04.046016Z",
     "iopub.status.idle": "2022-05-06T16:55:04.058205Z",
     "shell.execute_reply": "2022-05-06T16:55:04.057310Z"
    },
    "papermill": {
     "duration": 0.049692,
     "end_time": "2022-05-06T16:55:04.062256",
     "exception": false,
     "start_time": "2022-05-06T16:55:04.012564",
     "status": "completed"
    },
    "tags": []
   },
   "outputs": [
    {
     "name": "stdout",
     "output_type": "stream",
     "text": [
      "Number of COVID-19 positives\n",
      " 4383\n",
      "Number of COVID-19 negatives\n",
      " 1051\n"
     ]
    }
   ],
   "source": [
    "# it would be helpful to know if dataset was balanced \n",
    "number_covid_positives = len(covid_data[covid_data['COVID-19'] == 'Yes']['COVID-19'])\n",
    "number_covid_negatives = len(covid_data[covid_data['COVID-19'] == 'No']['COVID-19'])\n",
    "\n",
    "print(\"Number of COVID-19 positives\\n\", number_covid_positives)\n",
    "print(\"Number of COVID-19 negatives\\n\", number_covid_negatives)\n"
   ]
  },
  {
   "cell_type": "code",
   "execution_count": 10,
   "id": "52171016",
   "metadata": {
    "execution": {
     "iopub.execute_input": "2022-05-06T16:55:04.128872Z",
     "iopub.status.busy": "2022-05-06T16:55:04.128298Z",
     "iopub.status.idle": "2022-05-06T16:55:04.282165Z",
     "shell.execute_reply": "2022-05-06T16:55:04.281422Z"
    },
    "papermill": {
     "duration": 0.189394,
     "end_time": "2022-05-06T16:55:04.284401",
     "exception": false,
     "start_time": "2022-05-06T16:55:04.095007",
     "status": "completed"
    },
    "tags": []
   },
   "outputs": [
    {
     "data": {
      "text/plain": [
       "<AxesSubplot:xlabel='COVID-19', ylabel='count'>"
      ]
     },
     "execution_count": 10,
     "metadata": {},
     "output_type": "execute_result"
    },
    {
     "data": {
      "image/png": "[encoded data removed]",
      "text/plain": [
       "<Figure size 432x288 with 1 Axes>"
      ]
     },
     "metadata": {
      "needs_background": "light"
     },
     "output_type": "display_data"
    }
   ],
   "source": [
    "# There are 3X more positive cases than negative ones. \n",
    "sns.countplot(x='COVID-19', data=covid_data)"
   ]
  },
  {
   "cell_type": "code",
   "execution_count": 11,
   "id": "c373ef61",
   "metadata": {
    "execution": {
     "iopub.execute_input": "2022-05-06T16:55:04.353384Z",
     "iopub.status.busy": "2022-05-06T16:55:04.352782Z",
     "iopub.status.idle": "2022-05-06T16:55:04.380553Z",
     "shell.execute_reply": "2022-05-06T16:55:04.379494Z"
    },
    "papermill": {
     "duration": 0.065425,
     "end_time": "2022-05-06T16:55:04.383501",
     "exception": false,
     "start_time": "2022-05-06T16:55:04.318076",
     "status": "completed"
    },
    "tags": []
   },
   "outputs": [
    {
     "name": "stdout",
     "output_type": "stream",
     "text": [
      "Number of unique values for column Breathing Problem : 2\n",
      "Number of unique values for column Fever : 2\n",
      "Number of unique values for column Dry Cough : 2\n",
      "Number of unique values for column Sore throat : 2\n",
      "Number of unique values for column Running Nose : 2\n",
      "Number of unique values for column Asthma : 2\n",
      "Number of unique values for column Chronic Lung Disease : 2\n",
      "Number of unique values for column Headache : 2\n",
      "Number of unique values for column Heart Disease : 2\n",
      "Number of unique values for column Diabetes : 2\n",
      "Number of unique values for column Hyper Tension : 2\n",
      "Number of unique values for column Fatigue  : 2\n",
      "Number of unique values for column Gastrointestinal  : 2\n",
      "Number of unique values for column Abroad travel : 2\n",
      "Number of unique values for column Contact with COVID Patient : 2\n",
      "Number of unique values for column Attended Large Gathering : 2\n",
      "Number of unique values for column Visited Public Exposed Places : 2\n",
      "Number of unique values for column Family working in Public Exposed Places : 2\n",
      "Number of unique values for column Wearing Masks : 1\n",
      "Number of unique values for column Sanitization from Market : 1\n",
      "Number of unique values for column COVID-19 : 2\n"
     ]
    }
   ],
   "source": [
    "# Before go further let's check available features\n",
    "for col in covid_data.columns:\n",
    "    print(\"Number of unique values for column\", col,':', covid_data[col].nunique())"
   ]
  },
  {
   "cell_type": "code",
   "execution_count": 12,
   "id": "d334fbac",
   "metadata": {
    "execution": {
     "iopub.execute_input": "2022-05-06T16:55:04.454563Z",
     "iopub.status.busy": "2022-05-06T16:55:04.454286Z",
     "iopub.status.idle": "2022-05-06T16:55:04.460025Z",
     "shell.execute_reply": "2022-05-06T16:55:04.459094Z"
    },
    "papermill": {
     "duration": 0.043999,
     "end_time": "2022-05-06T16:55:04.462038",
     "exception": false,
     "start_time": "2022-05-06T16:55:04.418039",
     "status": "completed"
    },
    "tags": []
   },
   "outputs": [],
   "source": [
    "# It is evident that columns Wearing Masks and Sanitization from Market can be safely excluded from dataset (only one possible value)\n",
    "_ = covid_data.pop('Wearing Masks')\n",
    "_ = covid_data.pop('Sanitization from Market')"
   ]
  },
  {
   "cell_type": "code",
   "execution_count": 13,
   "id": "42278b9e",
   "metadata": {
    "execution": {
     "iopub.execute_input": "2022-05-06T16:55:04.530198Z",
     "iopub.status.busy": "2022-05-06T16:55:04.529906Z",
     "iopub.status.idle": "2022-05-06T16:55:04.550977Z",
     "shell.execute_reply": "2022-05-06T16:55:04.549990Z"
    },
    "papermill": {
     "duration": 0.057832,
     "end_time": "2022-05-06T16:55:04.553173",
     "exception": false,
     "start_time": "2022-05-06T16:55:04.495341",
     "status": "completed"
    },
    "tags": []
   },
   "outputs": [
    {
     "data": {
      "text/html": [
       "<div>\n",
       "<style scoped>\n",
       "    .dataframe tbody tr th:only-of-type {\n",
       "        vertical-align: middle;\n",
       "    }\n",
       "\n",
       "    .dataframe tbody tr th {\n",
       "        vertical-align: top;\n",
       "    }\n",
       "\n",
       "    .dataframe thead th {\n",
       "        text-align: right;\n",
       "    }\n",
       "</style>\n",
       "<table border=\"1\" class=\"dataframe\">\n",
       "  <thead>\n",
       "    <tr style=\"text-align: right;\">\n",
       "      <th></th>\n",
       "      <th>Breathing Problem</th>\n",
       "      <th>Fever</th>\n",
       "      <th>Dry Cough</th>\n",
       "      <th>Sore throat</th>\n",
       "      <th>Running Nose</th>\n",
       "      <th>Asthma</th>\n",
       "      <th>Chronic Lung Disease</th>\n",
       "      <th>Headache</th>\n",
       "      <th>Heart Disease</th>\n",
       "      <th>Diabetes</th>\n",
       "      <th>Hyper Tension</th>\n",
       "      <th>Fatigue</th>\n",
       "      <th>Gastrointestinal</th>\n",
       "      <th>Abroad travel</th>\n",
       "      <th>Contact with COVID Patient</th>\n",
       "      <th>Attended Large Gathering</th>\n",
       "      <th>Visited Public Exposed Places</th>\n",
       "      <th>Family working in Public Exposed Places</th>\n",
       "      <th>COVID-19</th>\n",
       "    </tr>\n",
       "  </thead>\n",
       "  <tbody>\n",
       "    <tr>\n",
       "      <th>0</th>\n",
       "      <td>Yes</td>\n",
       "      <td>Yes</td>\n",
       "      <td>Yes</td>\n",
       "      <td>Yes</td>\n",
       "      <td>Yes</td>\n",
       "      <td>No</td>\n",
       "      <td>No</td>\n",
       "      <td>No</td>\n",
       "      <td>No</td>\n",
       "      <td>Yes</td>\n",
       "      <td>Yes</td>\n",
       "      <td>Yes</td>\n",
       "      <td>Yes</td>\n",
       "      <td>No</td>\n",
       "      <td>Yes</td>\n",
       "      <td>No</td>\n",
       "      <td>Yes</td>\n",
       "      <td>Yes</td>\n",
       "      <td>Yes</td>\n",
       "    </tr>\n",
       "    <tr>\n",
       "      <th>1</th>\n",
       "      <td>Yes</td>\n",
       "      <td>Yes</td>\n",
       "      <td>Yes</td>\n",
       "      <td>Yes</td>\n",
       "      <td>No</td>\n",
       "      <td>Yes</td>\n",
       "      <td>Yes</td>\n",
       "      <td>Yes</td>\n",
       "      <td>No</td>\n",
       "      <td>No</td>\n",
       "      <td>No</td>\n",
       "      <td>Yes</td>\n",
       "      <td>No</td>\n",
       "      <td>No</td>\n",
       "      <td>No</td>\n",
       "      <td>Yes</td>\n",
       "      <td>Yes</td>\n",
       "      <td>No</td>\n",
       "      <td>Yes</td>\n",
       "    </tr>\n",
       "    <tr>\n",
       "      <th>2</th>\n",
       "      <td>Yes</td>\n",
       "      <td>Yes</td>\n",
       "      <td>Yes</td>\n",
       "      <td>Yes</td>\n",
       "      <td>Yes</td>\n",
       "      <td>Yes</td>\n",
       "      <td>Yes</td>\n",
       "      <td>Yes</td>\n",
       "      <td>No</td>\n",
       "      <td>Yes</td>\n",
       "      <td>No</td>\n",
       "      <td>Yes</td>\n",
       "      <td>Yes</td>\n",
       "      <td>Yes</td>\n",
       "      <td>No</td>\n",
       "      <td>No</td>\n",
       "      <td>No</td>\n",
       "      <td>No</td>\n",
       "      <td>Yes</td>\n",
       "    </tr>\n",
       "    <tr>\n",
       "      <th>3</th>\n",
       "      <td>Yes</td>\n",
       "      <td>Yes</td>\n",
       "      <td>Yes</td>\n",
       "      <td>No</td>\n",
       "      <td>No</td>\n",
       "      <td>Yes</td>\n",
       "      <td>No</td>\n",
       "      <td>No</td>\n",
       "      <td>Yes</td>\n",
       "      <td>Yes</td>\n",
       "      <td>No</td>\n",
       "      <td>No</td>\n",
       "      <td>No</td>\n",
       "      <td>Yes</td>\n",
       "      <td>No</td>\n",
       "      <td>Yes</td>\n",
       "      <td>Yes</td>\n",
       "      <td>No</td>\n",
       "      <td>Yes</td>\n",
       "    </tr>\n",
       "    <tr>\n",
       "      <th>4</th>\n",
       "      <td>Yes</td>\n",
       "      <td>Yes</td>\n",
       "      <td>Yes</td>\n",
       "      <td>Yes</td>\n",
       "      <td>Yes</td>\n",
       "      <td>No</td>\n",
       "      <td>Yes</td>\n",
       "      <td>Yes</td>\n",
       "      <td>Yes</td>\n",
       "      <td>Yes</td>\n",
       "      <td>Yes</td>\n",
       "      <td>No</td>\n",
       "      <td>Yes</td>\n",
       "      <td>No</td>\n",
       "      <td>Yes</td>\n",
       "      <td>No</td>\n",
       "      <td>Yes</td>\n",
       "      <td>No</td>\n",
       "      <td>Yes</td>\n",
       "    </tr>\n",
       "  </tbody>\n",
       "</table>\n",
       "</div>"
      ],
      "text/plain": [
       "  Breathing Problem Fever Dry Cough Sore throat Running Nose Asthma  \\\n",
       "0               Yes   Yes       Yes         Yes          Yes     No   \n",
       "1               Yes   Yes       Yes         Yes           No    Yes   \n",
       "2               Yes   Yes       Yes         Yes          Yes    Yes   \n",
       "3               Yes   Yes       Yes          No           No    Yes   \n",
       "4               Yes   Yes       Yes         Yes          Yes     No   \n",
       "\n",
       "  Chronic Lung Disease Headache Heart Disease Diabetes Hyper Tension Fatigue   \\\n",
       "0                   No       No            No      Yes           Yes      Yes   \n",
       "1                  Yes      Yes            No       No            No      Yes   \n",
       "2                  Yes      Yes            No      Yes            No      Yes   \n",
       "3                   No       No           Yes      Yes            No       No   \n",
       "4                  Yes      Yes           Yes      Yes           Yes       No   \n",
       "\n",
       "  Gastrointestinal  Abroad travel Contact with COVID Patient  \\\n",
       "0               Yes            No                        Yes   \n",
       "1                No            No                         No   \n",
       "2               Yes           Yes                         No   \n",
       "3                No           Yes                         No   \n",
       "4               Yes            No                        Yes   \n",
       "\n",
       "  Attended Large Gathering Visited Public Exposed Places  \\\n",
       "0                       No                           Yes   \n",
       "1                      Yes                           Yes   \n",
       "2                       No                            No   \n",
       "3                      Yes                           Yes   \n",
       "4                       No                           Yes   \n",
       "\n",
       "  Family working in Public Exposed Places COVID-19  \n",
       "0                                     Yes      Yes  \n",
       "1                                      No      Yes  \n",
       "2                                      No      Yes  \n",
       "3                                      No      Yes  \n",
       "4                                      No      Yes  "
      ]
     },
     "execution_count": 13,
     "metadata": {},
     "output_type": "execute_result"
    }
   ],
   "source": [
    "covid_data.head()"
   ]
  },
  {
   "cell_type": "code",
   "execution_count": 14,
   "id": "e512bc21",
   "metadata": {
    "execution": {
     "iopub.execute_input": "2022-05-06T16:55:04.623239Z",
     "iopub.status.busy": "2022-05-06T16:55:04.622934Z",
     "iopub.status.idle": "2022-05-06T16:55:04.666207Z",
     "shell.execute_reply": "2022-05-06T16:55:04.664962Z"
    },
    "papermill": {
     "duration": 0.08123,
     "end_time": "2022-05-06T16:55:04.668759",
     "exception": false,
     "start_time": "2022-05-06T16:55:04.587529",
     "status": "completed"
    },
    "tags": []
   },
   "outputs": [],
   "source": [
    "# creates label and feature sets\n",
    "le = LabelEncoder()\n",
    "y_train = covid_data.pop('COVID-19')\n",
    "y_train = le.fit_transform(y_train)\n",
    "\n",
    "for col in covid_data.columns:\n",
    "    covid_data[col] = le.fit_transform(covid_data[col])\n",
    "    \n",
    "x_train = covid_data"
   ]
  },
  {
   "cell_type": "code",
   "execution_count": 22,
   "id": "d5591a84",
   "metadata": {},
   "outputs": [
    {
     "data": {
      "text/html": [
       "<div>\n",
       "<style scoped>\n",
       "    .dataframe tbody tr th:only-of-type {\n",
       "        vertical-align: middle;\n",
       "    }\n",
       "\n",
       "    .dataframe tbody tr th {\n",
       "        vertical-align: top;\n",
       "    }\n",
       "\n",
       "    .dataframe thead th {\n",
       "        text-align: right;\n",
       "    }\n",
       "</style>\n",
       "<table border=\"1\" class=\"dataframe\">\n",
       "  <thead>\n",
       "    <tr style=\"text-align: right;\">\n",
       "      <th></th>\n",
       "      <th>Breathing Problem</th>\n",
       "      <th>Fever</th>\n",
       "      <th>Dry Cough</th>\n",
       "      <th>Sore throat</th>\n",
       "      <th>Running Nose</th>\n",
       "      <th>Asthma</th>\n",
       "      <th>Chronic Lung Disease</th>\n",
       "      <th>Headache</th>\n",
       "      <th>Heart Disease</th>\n",
       "      <th>Diabetes</th>\n",
       "      <th>Hyper Tension</th>\n",
       "      <th>Fatigue</th>\n",
       "      <th>Gastrointestinal</th>\n",
       "      <th>Abroad travel</th>\n",
       "      <th>Contact with COVID Patient</th>\n",
       "      <th>Attended Large Gathering</th>\n",
       "      <th>Visited Public Exposed Places</th>\n",
       "      <th>Family working in Public Exposed Places</th>\n",
       "    </tr>\n",
       "  </thead>\n",
       "  <tbody>\n",
       "    <tr>\n",
       "      <th>0</th>\n",
       "      <td>1</td>\n",
       "      <td>1</td>\n",
       "      <td>1</td>\n",
       "      <td>1</td>\n",
       "      <td>1</td>\n",
       "      <td>0</td>\n",
       "      <td>0</td>\n",
       "      <td>0</td>\n",
       "      <td>0</td>\n",
       "      <td>1</td>\n",
       "      <td>1</td>\n",
       "      <td>1</td>\n",
       "      <td>1</td>\n",
       "      <td>0</td>\n",
       "      <td>1</td>\n",
       "      <td>0</td>\n",
       "      <td>1</td>\n",
       "      <td>1</td>\n",
       "    </tr>\n",
       "    <tr>\n",
       "      <th>1</th>\n",
       "      <td>1</td>\n",
       "      <td>1</td>\n",
       "      <td>1</td>\n",
       "      <td>1</td>\n",
       "      <td>0</td>\n",
       "      <td>1</td>\n",
       "      <td>1</td>\n",
       "      <td>1</td>\n",
       "      <td>0</td>\n",
       "      <td>0</td>\n",
       "      <td>0</td>\n",
       "      <td>1</td>\n",
       "      <td>0</td>\n",
       "      <td>0</td>\n",
       "      <td>0</td>\n",
       "      <td>1</td>\n",
       "      <td>1</td>\n",
       "      <td>0</td>\n",
       "    </tr>\n",
       "    <tr>\n",
       "      <th>2</th>\n",
       "      <td>1</td>\n",
       "      <td>1</td>\n",
       "      <td>1</td>\n",
       "      <td>1</td>\n",
       "      <td>1</td>\n",
       "      <td>1</td>\n",
       "      <td>1</td>\n",
       "      <td>1</td>\n",
       "      <td>0</td>\n",
       "      <td>1</td>\n",
       "      <td>0</td>\n",
       "      <td>1</td>\n",
       "      <td>1</td>\n",
       "      <td>1</td>\n",
       "      <td>0</td>\n",
       "      <td>0</td>\n",
       "      <td>0</td>\n",
       "      <td>0</td>\n",
       "    </tr>\n",
       "    <tr>\n",
       "      <th>3</th>\n",
       "      <td>1</td>\n",
       "      <td>1</td>\n",
       "      <td>1</td>\n",
       "      <td>0</td>\n",
       "      <td>0</td>\n",
       "      <td>1</td>\n",
       "      <td>0</td>\n",
       "      <td>0</td>\n",
       "      <td>1</td>\n",
       "      <td>1</td>\n",
       "      <td>0</td>\n",
       "      <td>0</td>\n",
       "      <td>0</td>\n",
       "      <td>1</td>\n",
       "      <td>0</td>\n",
       "      <td>1</td>\n",
       "      <td>1</td>\n",
       "      <td>0</td>\n",
       "    </tr>\n",
       "    <tr>\n",
       "      <th>4</th>\n",
       "      <td>1</td>\n",
       "      <td>1</td>\n",
       "      <td>1</td>\n",
       "      <td>1</td>\n",
       "      <td>1</td>\n",
       "      <td>0</td>\n",
       "      <td>1</td>\n",
       "      <td>1</td>\n",
       "      <td>1</td>\n",
       "      <td>1</td>\n",
       "      <td>1</td>\n",
       "      <td>0</td>\n",
       "      <td>1</td>\n",
       "      <td>0</td>\n",
       "      <td>1</td>\n",
       "      <td>0</td>\n",
       "      <td>1</td>\n",
       "      <td>0</td>\n",
       "    </tr>\n",
       "  </tbody>\n",
       "</table>\n",
       "</div>"
      ],
      "text/plain": [
       "   Breathing Problem  Fever  Dry Cough  Sore throat  Running Nose  Asthma  \\\n",
       "0                  1      1          1            1             1       0   \n",
       "1                  1      1          1            1             0       1   \n",
       "2                  1      1          1            1             1       1   \n",
       "3                  1      1          1            0             0       1   \n",
       "4                  1      1          1            1             1       0   \n",
       "\n",
       "   Chronic Lung Disease  Headache  Heart Disease  Diabetes  Hyper Tension  \\\n",
       "0                     0         0              0         1              1   \n",
       "1                     1         1              0         0              0   \n",
       "2                     1         1              0         1              0   \n",
       "3                     0         0              1         1              0   \n",
       "4                     1         1              1         1              1   \n",
       "\n",
       "   Fatigue   Gastrointestinal   Abroad travel  Contact with COVID Patient  \\\n",
       "0         1                  1              0                           1   \n",
       "1         1                  0              0                           0   \n",
       "2         1                  1              1                           0   \n",
       "3         0                  0              1                           0   \n",
       "4         0                  1              0                           1   \n",
       "\n",
       "   Attended Large Gathering  Visited Public Exposed Places  \\\n",
       "0                         0                              1   \n",
       "1                         1                              1   \n",
       "2                         0                              0   \n",
       "3                         1                              1   \n",
       "4                         0                              1   \n",
       "\n",
       "   Family working in Public Exposed Places  \n",
       "0                                        1  \n",
       "1                                        0  \n",
       "2                                        0  \n",
       "3                                        0  \n",
       "4                                        0  "
      ]
     },
     "execution_count": 22,
     "metadata": {},
     "output_type": "execute_result"
    }
   ],
   "source": [
    "x_train.head()"
   ]
  },
  {
   "cell_type": "code",
   "execution_count": 33,
   "id": "7250c257",
   "metadata": {},
   "outputs": [
    {
     "data": {
      "text/plain": [
       "Breathing Problem                          1\n",
       "Fever                                      1\n",
       "Dry Cough                                  1\n",
       "Sore throat                                1\n",
       "Running Nose                               1\n",
       "Asthma                                     0\n",
       "Chronic Lung Disease                       0\n",
       "Headache                                   0\n",
       "Heart Disease                              0\n",
       "Diabetes                                   1\n",
       "Hyper Tension                              1\n",
       "Fatigue                                    1\n",
       "Gastrointestinal                           1\n",
       "Abroad travel                              0\n",
       "Contact with COVID Patient                 1\n",
       "Attended Large Gathering                   0\n",
       "Visited Public Exposed Places              1\n",
       "Family working in Public Exposed Places    1\n",
       "Name: 0, dtype: int32"
      ]
     },
     "execution_count": 33,
     "metadata": {},
     "output_type": "execute_result"
    }
   ],
   "source": [
    "x_train.iloc[0]"
   ]
  },
  {
   "cell_type": "code",
   "execution_count": 35,
   "id": "6c3418b5",
   "metadata": {},
   "outputs": [
    {
     "data": {
      "text/plain": [
       "1"
      ]
     },
     "execution_count": 35,
     "metadata": {},
     "output_type": "execute_result"
    }
   ],
   "source": [
    "y_train[0]"
   ]
  },
  {
   "cell_type": "code",
   "execution_count": 23,
   "id": "14e2bc80",
   "metadata": {},
   "outputs": [
    {
     "data": {
      "text/plain": [
       "Index(['Breathing Problem', 'Fever', 'Dry Cough', 'Sore throat',\n",
       "       'Running Nose', 'Asthma', 'Chronic Lung Disease', 'Headache',\n",
       "       'Heart Disease', 'Diabetes', 'Hyper Tension', 'Fatigue ',\n",
       "       'Gastrointestinal ', 'Abroad travel', 'Contact with COVID Patient',\n",
       "       'Attended Large Gathering', 'Visited Public Exposed Places',\n",
       "       'Family working in Public Exposed Places'],\n",
       "      dtype='object')"
      ]
     },
     "execution_count": 23,
     "metadata": {},
     "output_type": "execute_result"
    }
   ],
   "source": [
    "x_train.columns"
   ]
  },
  {
   "cell_type": "code",
   "execution_count": 15,
   "id": "35a6fa4f",
   "metadata": {
    "execution": {
     "iopub.execute_input": "2022-05-06T16:55:04.740168Z",
     "iopub.status.busy": "2022-05-06T16:55:04.739272Z",
     "iopub.status.idle": "2022-05-06T16:55:04.744833Z",
     "shell.execute_reply": "2022-05-06T16:55:04.743844Z"
    },
    "papermill": {
     "duration": 0.04489,
     "end_time": "2022-05-06T16:55:04.748282",
     "exception": false,
     "start_time": "2022-05-06T16:55:04.703392",
     "status": "completed"
    },
    "tags": []
   },
   "outputs": [
    {
     "name": "stdout",
     "output_type": "stream",
     "text": [
      "Label set dimensions:  (5434,)\n",
      "Features set dimensions:  (5434, 18)\n"
     ]
    }
   ],
   "source": [
    "# check sets dimensions\n",
    "print(\"Label set dimensions: \", y_train.shape)\n",
    "print(\"Features set dimensions: \", x_train.shape)"
   ]
  },
  {
   "cell_type": "markdown",
   "id": "48541c12",
   "metadata": {
    "papermill": {
     "duration": 0.034538,
     "end_time": "2022-05-06T16:55:04.818390",
     "exception": false,
     "start_time": "2022-05-06T16:55:04.783852",
     "status": "completed"
    },
    "tags": []
   },
   "source": [
    "<h2>Bulding neural network using tensorflow</h2>"
   ]
  },
  {
   "cell_type": "code",
   "execution_count": 16,
   "id": "4c7a9e8d",
   "metadata": {
    "execution": {
     "iopub.execute_input": "2022-05-06T16:55:04.889780Z",
     "iopub.status.busy": "2022-05-06T16:55:04.889227Z",
     "iopub.status.idle": "2022-05-06T16:55:04.955528Z",
     "shell.execute_reply": "2022-05-06T16:55:04.954568Z"
    },
    "papermill": {
     "duration": 0.106344,
     "end_time": "2022-05-06T16:55:04.958968",
     "exception": false,
     "start_time": "2022-05-06T16:55:04.852624",
     "status": "completed"
    },
    "tags": []
   },
   "outputs": [],
   "source": [
    "# Before the building we use SMOTE to balance dataset\n",
    "\n",
    "sm = SMOTE()\n",
    "\n",
    "x_bal, y_bal = sm.fit_resample(x_train, y_train)"
   ]
  },
  {
   "cell_type": "code",
   "execution_count": 17,
   "id": "3f338578",
   "metadata": {
    "execution": {
     "iopub.execute_input": "2022-05-06T16:55:05.059222Z",
     "iopub.status.busy": "2022-05-06T16:55:05.058896Z",
     "iopub.status.idle": "2022-05-06T16:55:05.068229Z",
     "shell.execute_reply": "2022-05-06T16:55:05.067293Z"
    },
    "papermill": {
     "duration": 0.04849,
     "end_time": "2022-05-06T16:55:05.070535",
     "exception": false,
     "start_time": "2022-05-06T16:55:05.022045",
     "status": "completed"
    },
    "tags": []
   },
   "outputs": [],
   "source": [
    "# creates training and test/validation sets\n",
    "part_x_bal, x_test, part_y_bal, y_test = train_test_split(x_bal, y_bal, test_size=0.2, random_state=1)"
   ]
  },
  {
   "cell_type": "code",
   "execution_count": 18,
   "id": "9854b654",
   "metadata": {
    "execution": {
     "iopub.execute_input": "2022-05-06T16:55:05.142136Z",
     "iopub.status.busy": "2022-05-06T16:55:05.141811Z",
     "iopub.status.idle": "2022-05-06T16:55:11.277378Z",
     "shell.execute_reply": "2022-05-06T16:55:11.276298Z"
    },
    "papermill": {
     "duration": 6.174063,
     "end_time": "2022-05-06T16:55:11.279852",
     "exception": false,
     "start_time": "2022-05-06T16:55:05.105789",
     "status": "completed"
    },
    "tags": []
   },
   "outputs": [
    {
     "name": "stdout",
     "output_type": "stream",
     "text": [
      "Epoch 1/50\n",
      "14/14 [==============================] - 1s 34ms/step - loss: 0.5885 - accuracy: 0.6818 - val_loss: 0.5013 - val_accuracy: 0.8683\n",
      "Epoch 2/50\n",
      "14/14 [==============================] - 0s 12ms/step - loss: 0.4267 - accuracy: 0.8987 - val_loss: 0.3433 - val_accuracy: 0.9094\n",
      "Epoch 3/50\n",
      "14/14 [==============================] - 0s 15ms/step - loss: 0.2896 - accuracy: 0.9283 - val_loss: 0.2296 - val_accuracy: 0.9361\n",
      "Epoch 4/50\n",
      "14/14 [==============================] - 0s 16ms/step - loss: 0.2005 - accuracy: 0.9370 - val_loss: 0.1650 - val_accuracy: 0.9470\n",
      "Epoch 5/50\n",
      "14/14 [==============================] - 0s 22ms/step - loss: 0.1509 - accuracy: 0.9539 - val_loss: 0.1289 - val_accuracy: 0.9550\n",
      "Epoch 6/50\n",
      "14/14 [==============================] - 0s 35ms/step - loss: 0.1207 - accuracy: 0.9619 - val_loss: 0.1076 - val_accuracy: 0.9686\n",
      "Epoch 7/50\n",
      "14/14 [==============================] - 0s 21ms/step - loss: 0.1032 - accuracy: 0.9659 - val_loss: 0.0944 - val_accuracy: 0.9624\n",
      "Epoch 8/50\n",
      "14/14 [==============================] - 0s 28ms/step - loss: 0.0901 - accuracy: 0.9659 - val_loss: 0.0863 - val_accuracy: 0.9658\n",
      "Epoch 9/50\n",
      "14/14 [==============================] - 0s 18ms/step - loss: 0.0810 - accuracy: 0.9688 - val_loss: 0.0786 - val_accuracy: 0.9686\n",
      "Epoch 10/50\n",
      "14/14 [==============================] - 0s 13ms/step - loss: 0.0741 - accuracy: 0.9728 - val_loss: 0.0726 - val_accuracy: 0.9721\n",
      "Epoch 11/50\n",
      "14/14 [==============================] - 0s 33ms/step - loss: 0.0694 - accuracy: 0.9766 - val_loss: 0.0691 - val_accuracy: 0.9755\n",
      "Epoch 12/50\n",
      "14/14 [==============================] - 0s 15ms/step - loss: 0.0654 - accuracy: 0.9797 - val_loss: 0.0650 - val_accuracy: 0.9738\n",
      "Epoch 13/50\n",
      "14/14 [==============================] - 0s 8ms/step - loss: 0.0608 - accuracy: 0.9805 - val_loss: 0.0635 - val_accuracy: 0.9738\n",
      "Epoch 14/50\n",
      "14/14 [==============================] - 0s 12ms/step - loss: 0.0580 - accuracy: 0.9819 - val_loss: 0.0588 - val_accuracy: 0.9829\n",
      "Epoch 15/50\n",
      "14/14 [==============================] - 0s 14ms/step - loss: 0.0554 - accuracy: 0.9813 - val_loss: 0.0557 - val_accuracy: 0.9829\n",
      "Epoch 16/50\n",
      "14/14 [==============================] - 0s 8ms/step - loss: 0.0544 - accuracy: 0.9809 - val_loss: 0.0536 - val_accuracy: 0.9835\n",
      "Epoch 17/50\n",
      "14/14 [==============================] - 0s 9ms/step - loss: 0.0515 - accuracy: 0.9830 - val_loss: 0.0539 - val_accuracy: 0.9829\n",
      "Epoch 18/50\n",
      "14/14 [==============================] - 0s 10ms/step - loss: 0.0511 - accuracy: 0.9815 - val_loss: 0.0507 - val_accuracy: 0.9835\n",
      "Epoch 19/50\n",
      "14/14 [==============================] - 0s 20ms/step - loss: 0.0487 - accuracy: 0.9845 - val_loss: 0.0478 - val_accuracy: 0.9835\n",
      "Epoch 20/50\n",
      "14/14 [==============================] - 0s 14ms/step - loss: 0.0478 - accuracy: 0.9827 - val_loss: 0.0479 - val_accuracy: 0.9835\n",
      "Epoch 21/50\n",
      "14/14 [==============================] - 0s 9ms/step - loss: 0.0495 - accuracy: 0.9802 - val_loss: 0.0509 - val_accuracy: 0.9818\n",
      "Epoch 22/50\n",
      "14/14 [==============================] - 0s 8ms/step - loss: 0.0462 - accuracy: 0.9835 - val_loss: 0.0448 - val_accuracy: 0.9835\n",
      "Epoch 23/50\n",
      "14/14 [==============================] - 0s 10ms/step - loss: 0.0447 - accuracy: 0.9855 - val_loss: 0.0430 - val_accuracy: 0.9852\n",
      "Epoch 24/50\n",
      "14/14 [==============================] - 0s 9ms/step - loss: 0.0430 - accuracy: 0.9857 - val_loss: 0.0433 - val_accuracy: 0.9789\n",
      "Epoch 25/50\n",
      "14/14 [==============================] - 0s 8ms/step - loss: 0.0428 - accuracy: 0.9846 - val_loss: 0.0408 - val_accuracy: 0.9852\n",
      "Epoch 26/50\n",
      "14/14 [==============================] - 0s 20ms/step - loss: 0.0413 - accuracy: 0.9857 - val_loss: 0.0407 - val_accuracy: 0.9852\n",
      "Epoch 27/50\n",
      "14/14 [==============================] - 0s 23ms/step - loss: 0.0411 - accuracy: 0.9857 - val_loss: 0.0399 - val_accuracy: 0.9852\n",
      "Epoch 28/50\n",
      "14/14 [==============================] - 0s 9ms/step - loss: 0.0415 - accuracy: 0.9862 - val_loss: 0.0392 - val_accuracy: 0.9852\n",
      "Epoch 29/50\n",
      "14/14 [==============================] - 0s 7ms/step - loss: 0.0401 - accuracy: 0.9860 - val_loss: 0.0392 - val_accuracy: 0.9852\n",
      "Epoch 30/50\n",
      "14/14 [==============================] - 0s 12ms/step - loss: 0.0404 - accuracy: 0.9865 - val_loss: 0.0378 - val_accuracy: 0.9852\n",
      "Epoch 31/50\n",
      "14/14 [==============================] - 0s 7ms/step - loss: 0.0391 - accuracy: 0.9870 - val_loss: 0.0374 - val_accuracy: 0.9880\n",
      "Epoch 32/50\n",
      "14/14 [==============================] - 0s 9ms/step - loss: 0.0394 - accuracy: 0.9863 - val_loss: 0.0372 - val_accuracy: 0.9886\n",
      "Epoch 33/50\n",
      "14/14 [==============================] - 0s 8ms/step - loss: 0.0381 - accuracy: 0.9877 - val_loss: 0.0376 - val_accuracy: 0.9852\n",
      "Epoch 34/50\n",
      "14/14 [==============================] - 0s 7ms/step - loss: 0.0387 - accuracy: 0.9873 - val_loss: 0.0365 - val_accuracy: 0.9892\n",
      "Epoch 35/50\n",
      "14/14 [==============================] - 0s 31ms/step - loss: 0.0382 - accuracy: 0.9877 - val_loss: 0.0361 - val_accuracy: 0.9892\n",
      "Epoch 36/50\n",
      "14/14 [==============================] - 0s 15ms/step - loss: 0.0375 - accuracy: 0.9879 - val_loss: 0.0353 - val_accuracy: 0.9892\n",
      "Epoch 37/50\n",
      "14/14 [==============================] - 0s 13ms/step - loss: 0.0384 - accuracy: 0.9879 - val_loss: 0.0358 - val_accuracy: 0.9892\n",
      "Epoch 38/50\n",
      "14/14 [==============================] - 0s 11ms/step - loss: 0.0371 - accuracy: 0.9879 - val_loss: 0.0354 - val_accuracy: 0.9892\n",
      "Epoch 39/50\n",
      "14/14 [==============================] - 0s 8ms/step - loss: 0.0368 - accuracy: 0.9879 - val_loss: 0.0349 - val_accuracy: 0.9892\n",
      "Epoch 40/50\n",
      "14/14 [==============================] - 0s 29ms/step - loss: 0.0369 - accuracy: 0.9879 - val_loss: 0.0348 - val_accuracy: 0.9892\n",
      "Epoch 41/50\n",
      "14/14 [==============================] - 0s 26ms/step - loss: 0.0372 - accuracy: 0.9879 - val_loss: 0.0344 - val_accuracy: 0.9892\n",
      "Epoch 42/50\n",
      "14/14 [==============================] - 0s 8ms/step - loss: 0.0366 - accuracy: 0.9879 - val_loss: 0.0357 - val_accuracy: 0.9892\n",
      "Epoch 43/50\n",
      "14/14 [==============================] - 0s 7ms/step - loss: 0.0387 - accuracy: 0.9875 - val_loss: 0.0369 - val_accuracy: 0.9892\n",
      "Epoch 44/50\n",
      "14/14 [==============================] - 0s 9ms/step - loss: 0.0376 - accuracy: 0.9875 - val_loss: 0.0341 - val_accuracy: 0.9892\n",
      "Epoch 45/50\n",
      "14/14 [==============================] - 0s 21ms/step - loss: 0.0364 - accuracy: 0.9879 - val_loss: 0.0346 - val_accuracy: 0.9892\n",
      "Epoch 46/50\n",
      "14/14 [==============================] - 0s 25ms/step - loss: 0.0373 - accuracy: 0.9879 - val_loss: 0.0345 - val_accuracy: 0.9892\n",
      "Epoch 47/50\n",
      "14/14 [==============================] - 0s 30ms/step - loss: 0.0365 - accuracy: 0.9877 - val_loss: 0.0339 - val_accuracy: 0.9892\n",
      "Epoch 48/50\n",
      "14/14 [==============================] - 0s 8ms/step - loss: 0.0362 - accuracy: 0.9879 - val_loss: 0.0331 - val_accuracy: 0.9892\n",
      "Epoch 49/50\n",
      "14/14 [==============================] - 0s 12ms/step - loss: 0.0358 - accuracy: 0.9879 - val_loss: 0.0342 - val_accuracy: 0.9892\n",
      "Epoch 50/50\n",
      "14/14 [==============================] - 0s 8ms/step - loss: 0.0355 - accuracy: 0.9879 - val_loss: 0.0338 - val_accuracy: 0.9892\n"
     ]
    }
   ],
   "source": [
    "# build the model\n",
    "model = models.Sequential()\n",
    "\n",
    "model.add(layers.Dense(64, activation='relu', input_shape=(x_bal.shape[1],)))\n",
    "model.add(layers.Dense(64, activation='relu'))\n",
    "model.add(layers.Dense(1, activation='sigmoid'))\n",
    "model.compile(optimizer='adam', loss='binary_crossentropy', metrics=['accuracy'])\n",
    "\n",
    "history_bal = model.fit(part_x_bal, part_y_bal, epochs=50, batch_size=512, validation_data=(x_test, y_test))"
   ]
  },
  {
   "cell_type": "markdown",
   "id": "970c2d52",
   "metadata": {},
   "source": [
    "# Save model\n"
   ]
  },
  {
   "cell_type": "code",
   "execution_count": 24,
   "id": "50036557",
   "metadata": {},
   "outputs": [],
   "source": [
    "# export the model\n",
    "model.save('model.h5')\n",
    "\n"
   ]
  },
  {
   "cell_type": "code",
   "execution_count": 25,
   "id": "c1884654",
   "metadata": {},
   "outputs": [
    {
     "name": "stdout",
     "output_type": "stream",
     "text": [
      "Model: \"sequential\"\n",
      "_________________________________________________________________\n",
      " Layer (type)                Output Shape              Param #   \n",
      "=================================================================\n",
      " dense (Dense)               (None, 64)                1216      \n",
      "                                                                 \n",
      " dense_1 (Dense)             (None, 64)                4160      \n",
      "                                                                 \n",
      " dense_2 (Dense)             (None, 1)                 65        \n",
      "                                                                 \n",
      "=================================================================\n",
      "Total params: 5,441\n",
      "Trainable params: 5,441\n",
      "Non-trainable params: 0\n",
      "_________________________________________________________________\n"
     ]
    }
   ],
   "source": [
    "model.summary()"
   ]
  },
  {
   "cell_type": "code",
   "execution_count": 29,
   "id": "980ffe75",
   "metadata": {},
   "outputs": [],
   "source": [
    "model_loaded = tf.keras.models.load_model(\"model.h5\")"
   ]
  },
  {
   "cell_type": "code",
   "execution_count": 30,
   "id": "42e87165",
   "metadata": {},
   "outputs": [
    {
     "name": "stdout",
     "output_type": "stream",
     "text": [
      "Model: \"sequential\"\n",
      "_________________________________________________________________\n",
      " Layer (type)                Output Shape              Param #   \n",
      "=================================================================\n",
      " dense (Dense)               (None, 64)                1216      \n",
      "                                                                 \n",
      " dense_1 (Dense)             (None, 64)                4160      \n",
      "                                                                 \n",
      " dense_2 (Dense)             (None, 1)                 65        \n",
      "                                                                 \n",
      "=================================================================\n",
      "Total params: 5,441\n",
      "Trainable params: 5,441\n",
      "Non-trainable params: 0\n",
      "_________________________________________________________________\n"
     ]
    }
   ],
   "source": [
    "model_loaded.summary()"
   ]
  },
  {
   "cell_type": "code",
   "execution_count": 26,
   "id": "4a0c726d",
   "metadata": {},
   "outputs": [
    {
     "name": "stdout",
     "output_type": "stream",
     "text": [
      "Model input tensor: KerasTensor(type_spec=TensorSpec(shape=(None, 18), dtype=tf.float32, name='dense_input'), name='dense_input', description=\"created by layer 'dense_input'\")\n",
      "Model input name(s): ['dense_input']\n"
     ]
    }
   ],
   "source": [
    "print(\"Model input tensor:\", model.input)\n",
    "print(\"Model input name(s):\", model.input_names)"
   ]
  },
  {
   "cell_type": "code",
   "execution_count": 27,
   "id": "1a51f774",
   "metadata": {
    "execution": {
     "iopub.execute_input": "2022-05-06T16:55:11.432473Z",
     "iopub.status.busy": "2022-05-06T16:55:11.432117Z",
     "iopub.status.idle": "2022-05-06T16:55:11.650202Z",
     "shell.execute_reply": "2022-05-06T16:55:11.649327Z"
    },
    "papermill": {
     "duration": 0.294642,
     "end_time": "2022-05-06T16:55:11.652376",
     "exception": false,
     "start_time": "2022-05-06T16:55:11.357734",
     "status": "completed"
    },
    "tags": []
   },
   "outputs": [
    {
     "ename": "NameError",
     "evalue": "name 'plt' is not defined",
     "output_type": "error",
     "traceback": [
      "\u001b[1;31m---------------------------------------------------------------------------\u001b[0m",
      "\u001b[1;31mNameError\u001b[0m                                 Traceback (most recent call last)",
      "Cell \u001b[1;32mIn[27], line 5\u001b[0m\n\u001b[0;32m      3\u001b[0m val_loss_values \u001b[38;5;241m=\u001b[39m history_dict[\u001b[38;5;124m'\u001b[39m\u001b[38;5;124mval_loss\u001b[39m\u001b[38;5;124m'\u001b[39m]\n\u001b[0;32m      4\u001b[0m epochs \u001b[38;5;241m=\u001b[39m \u001b[38;5;28mrange\u001b[39m(\u001b[38;5;241m1\u001b[39m, \u001b[38;5;28mlen\u001b[39m(history_dict[\u001b[38;5;124m'\u001b[39m\u001b[38;5;124maccuracy\u001b[39m\u001b[38;5;124m'\u001b[39m]) \u001b[38;5;241m+\u001b[39m \u001b[38;5;241m1\u001b[39m)\n\u001b[1;32m----> 5\u001b[0m \u001b[43mplt\u001b[49m\u001b[38;5;241m.\u001b[39mplot(epochs, loss_values, \u001b[38;5;124m'\u001b[39m\u001b[38;5;124mr\u001b[39m\u001b[38;5;124m'\u001b[39m, label\u001b[38;5;241m=\u001b[39m\u001b[38;5;124m'\u001b[39m\u001b[38;5;124mTraining loss\u001b[39m\u001b[38;5;124m'\u001b[39m)\n\u001b[0;32m      6\u001b[0m plt\u001b[38;5;241m.\u001b[39mplot(epochs, val_loss_values, \u001b[38;5;124m'\u001b[39m\u001b[38;5;124mb\u001b[39m\u001b[38;5;124m'\u001b[39m, label\u001b[38;5;241m=\u001b[39m\u001b[38;5;124m'\u001b[39m\u001b[38;5;124mValidation loss\u001b[39m\u001b[38;5;124m'\u001b[39m)\n\u001b[0;32m      7\u001b[0m plt\u001b[38;5;241m.\u001b[39mtitle(\u001b[38;5;124m'\u001b[39m\u001b[38;5;124mTraining and validation loss\u001b[39m\u001b[38;5;124m'\u001b[39m)\n",
      "\u001b[1;31mNameError\u001b[0m: name 'plt' is not defined"
     ]
    }
   ],
   "source": [
    "history_dict = history_bal.history\n",
    "loss_values = history_dict['loss']\n",
    "val_loss_values = history_dict['val_loss']\n",
    "epochs = range(1, len(history_dict['accuracy']) + 1)\n",
    "plt.plot(epochs, loss_values, 'r', label='Training loss')\n",
    "plt.plot(epochs, val_loss_values, 'b', label='Validation loss')\n",
    "plt.title('Training and validation loss')\n",
    "plt.xlabel('Epochs')\n",
    "plt.ylabel('Loss')\n",
    "plt.legend()\n",
    "plt.show()"
   ]
  },
  {
   "cell_type": "code",
   "execution_count": 20,
   "id": "a6cf66a3",
   "metadata": {
    "execution": {
     "iopub.execute_input": "2022-05-06T16:55:11.803909Z",
     "iopub.status.busy": "2022-05-06T16:55:11.803015Z",
     "iopub.status.idle": "2022-05-06T16:55:12.021252Z",
     "shell.execute_reply": "2022-05-06T16:55:12.020333Z"
    },
    "papermill": {
     "duration": 0.296836,
     "end_time": "2022-05-06T16:55:12.023409",
     "exception": false,
     "start_time": "2022-05-06T16:55:11.726573",
     "status": "completed"
    },
    "tags": []
   },
   "outputs": [
    {
     "data": {
      "image/png": "[encoded data removed]",
      "text/plain": [
       "<Figure size 432x288 with 1 Axes>"
      ]
     },
     "metadata": {
      "needs_background": "light"
     },
     "output_type": "display_data"
    }
   ],
   "source": [
    "acc_values = history_dict['accuracy']\n",
    "val_acc_values = history_dict['val_accuracy']\n",
    "plt.plot(epochs, history_dict['accuracy'], 'r', label='Training acc')\n",
    "plt.plot(epochs, history_dict['val_accuracy'], 'b', label='Validation acc')\n",
    "plt.title('Training and validation accuracy')\n",
    "plt.xlabel('Epochs')\n",
    "plt.ylabel('Loss')\n",
    "plt.legend()\n",
    "plt.show()"
   ]
  },
  {
   "cell_type": "markdown",
   "id": "9d0da975",
   "metadata": {
    "papermill": {
     "duration": 0.074336,
     "end_time": "2022-05-06T16:55:12.173444",
     "exception": false,
     "start_time": "2022-05-06T16:55:12.099108",
     "status": "completed"
    },
    "tags": []
   },
   "source": [
    "<h2>Extreme Gradient Boosting</h2>"
   ]
  },
  {
   "cell_type": "code",
   "execution_count": 21,
   "id": "6072fe0a",
   "metadata": {
    "execution": {
     "iopub.execute_input": "2022-05-06T16:55:12.326172Z",
     "iopub.status.busy": "2022-05-06T16:55:12.325852Z",
     "iopub.status.idle": "2022-05-06T16:55:13.012789Z",
     "shell.execute_reply": "2022-05-06T16:55:13.011552Z"
    },
    "papermill": {
     "duration": 0.765835,
     "end_time": "2022-05-06T16:55:13.014896",
     "exception": false,
     "start_time": "2022-05-06T16:55:12.249061",
     "status": "completed"
    },
    "tags": []
   },
   "outputs": [
    {
     "name": "stdout",
     "output_type": "stream",
     "text": [
      "Accuracy: 0.9891676168757126\n"
     ]
    }
   ],
   "source": [
    "xgb = xgboost.XGBClassifier()\n",
    "xgb.fit(x_bal, y_bal)\n",
    "y_pred = xgb.predict(x_test)\n",
    "accuracy = accuracy_score(y_pred, y_test)\n",
    "print(\"Accuracy:\", accuracy)"
   ]
  },
  {
   "cell_type": "code",
   "execution_count": 22,
   "id": "178dcfe4",
   "metadata": {
    "execution": {
     "iopub.execute_input": "2022-05-06T16:55:13.170520Z",
     "iopub.status.busy": "2022-05-06T16:55:13.170219Z",
     "iopub.status.idle": "2022-05-06T16:57:37.946646Z",
     "shell.execute_reply": "2022-05-06T16:57:37.945406Z"
    },
    "papermill": {
     "duration": 144.934659,
     "end_time": "2022-05-06T16:57:38.028033",
     "exception": false,
     "start_time": "2022-05-06T16:55:13.093374",
     "status": "completed"
    },
    "tags": []
   },
   "outputs": [
    {
     "name": "stdout",
     "output_type": "stream",
     "text": [
      "Fitting 10 folds for each of 48 candidates, totalling 480 fits\n",
      "[CV 2/10] END learning_rate=0.1, max_depth=2, n_estimators=60;, score=1.000 total time=   0.5s\n",
      "[CV 6/10] END learning_rate=0.1, max_depth=2, n_estimators=60;, score=0.982 total time=   0.5s\n",
      "[CV 1/10] END learning_rate=0.1, max_depth=2, n_estimators=100;, score=1.000 total time=   0.8s\n",
      "[CV 5/10] END learning_rate=0.1, max_depth=2, n_estimators=100;, score=0.996 total time=   0.8s\n",
      "[CV 9/10] END learning_rate=0.1, max_depth=2, n_estimators=100;, score=1.000 total time=   0.8s\n",
      "[CV 3/10] END learning_rate=0.1, max_depth=3, n_estimators=60;, score=1.000 total time=   0.6s\n",
      "[CV 7/10] END learning_rate=0.1, max_depth=3, n_estimators=60;, score=0.977 total time=   0.6s\n",
      "[CV 1/10] END learning_rate=0.1, max_depth=3, n_estimators=100;, score=1.000 total time=   1.0s\n",
      "[CV 5/10] END learning_rate=0.1, max_depth=3, n_estimators=100;, score=0.999 total time=   1.0s\n",
      "[CV 9/10] END learning_rate=0.1, max_depth=3, n_estimators=100;, score=1.000 total time=   1.2s\n",
      "[CV 6/10] END learning_rate=0.1, max_depth=4, n_estimators=60;, score=0.997 total time=   0.7s\n",
      "[CV 8/10] END learning_rate=0.1, max_depth=4, n_estimators=60;, score=0.985 total time=   0.7s\n",
      "[CV 2/10] END learning_rate=0.1, max_depth=4, n_estimators=100;, score=1.000 total time=   1.2s\n",
      "[CV 6/10] END learning_rate=0.1, max_depth=4, n_estimators=100;, score=1.000 total time=   1.2s\n",
      "[CV 10/10] END learning_rate=0.1, max_depth=4, n_estimators=100;, score=0.983 total time=   1.2s\n",
      "[CV 5/10] END learning_rate=0.1, max_depth=5, n_estimators=60;, score=0.999 total time=   0.9s\n",
      "[CV 9/10] END learning_rate=0.1, max_depth=5, n_estimators=60;, score=1.000 total time=   0.9s\n",
      "[CV 3/10] END learning_rate=0.1, max_depth=5, n_estimators=100;, score=1.000 total time=   1.4s\n",
      "[CV 7/10] END learning_rate=0.1, max_depth=5, n_estimators=100;, score=0.980 total time=   1.4s\n",
      "[CV 2/10] END learning_rate=0.1, max_depth=6, n_estimators=60;, score=1.000 total time=   1.0s\n",
      "[CV 4/10] END learning_rate=0.1, max_depth=6, n_estimators=60;, score=0.999 total time=   1.0s\n",
      "[CV 7/10] END learning_rate=0.1, max_depth=6, n_estimators=60;, score=0.974 total time=   0.9s\n",
      "[CV 1/10] END learning_rate=0.1, max_depth=6, n_estimators=100;, score=1.000 total time=   1.6s\n",
      "[CV 5/10] END learning_rate=0.1, max_depth=6, n_estimators=100;, score=0.999 total time=   1.6s\n",
      "[CV 9/10] END learning_rate=0.1, max_depth=6, n_estimators=100;, score=1.000 total time=   1.7s\n",
      "[CV 5/10] END learning_rate=0.1, max_depth=7, n_estimators=60;, score=0.999 total time=   1.4s\n",
      "[CV 10/10] END learning_rate=0.1, max_depth=7, n_estimators=60;, score=0.917 total time=   1.1s\n",
      "[CV 4/10] END learning_rate=0.1, max_depth=7, n_estimators=100;, score=0.999 total time=   1.8s\n",
      "[CV 7/10] END learning_rate=0.1, max_depth=7, n_estimators=100;, score=0.978 total time=   1.7s\n",
      "[CV 1/10] END learning_rate=0.1, max_depth=8, n_estimators=60;, score=1.000 total time=   1.1s\n",
      "[CV 3/10] END learning_rate=0.1, max_depth=8, n_estimators=60;, score=1.000 total time=   1.2s\n",
      "[CV 7/10] END learning_rate=0.1, max_depth=8, n_estimators=60;, score=0.968 total time=   1.2s\n",
      "[CV 1/10] END learning_rate=0.1, max_depth=8, n_estimators=100;, score=1.000 total time=   1.8s\n",
      "[CV 6/10] END learning_rate=0.1, max_depth=8, n_estimators=100;, score=1.000 total time=   1.8s\n",
      "[CV 9/10] END learning_rate=0.1, max_depth=8, n_estimators=100;, score=1.000 total time=   1.8s\n",
      "[CV 6/10] END learning_rate=0.1, max_depth=9, n_estimators=60;, score=1.000 total time=   1.2s\n",
      "[CV 10/10] END learning_rate=0.1, max_depth=9, n_estimators=60;, score=0.948 total time=   1.2s\n",
      "[CV 3/10] END learning_rate=0.1, max_depth=9, n_estimators=100;, score=1.000 total time=   1.9s\n",
      "[CV 7/10] END learning_rate=0.1, max_depth=9, n_estimators=100;, score=0.965 total time=   1.9s\n",
      "[CV 1/10] END learning_rate=0.01, max_depth=2, n_estimators=60;, score=0.944 total time=   0.5s\n",
      "[CV 3/10] END learning_rate=0.01, max_depth=2, n_estimators=60;, score=0.997 total time=   0.5s\n",
      "[CV 5/10] END learning_rate=0.01, max_depth=2, n_estimators=60;, score=0.950 total time=   0.5s\n",
      "[CV 7/10] END learning_rate=0.01, max_depth=2, n_estimators=60;, score=0.969 total time=   0.5s\n",
      "[CV 1/10] END learning_rate=0.01, max_depth=2, n_estimators=100;, score=0.959 total time=   0.8s\n",
      "[CV 5/10] END learning_rate=0.01, max_depth=2, n_estimators=100;, score=0.973 total time=   0.8s\n",
      "[CV 9/10] END learning_rate=0.01, max_depth=2, n_estimators=100;, score=1.000 total time=   0.8s\n",
      "[CV 3/10] END learning_rate=0.01, max_depth=3, n_estimators=60;, score=0.996 total time=   0.6s\n",
      "[CV 7/10] END learning_rate=0.01, max_depth=3, n_estimators=60;, score=0.975 total time=   0.6s\n",
      "[CV 1/10] END learning_rate=0.01, max_depth=3, n_estimators=100;, score=0.972 total time=   0.9s\n",
      "[CV 5/10] END learning_rate=0.01, max_depth=3, n_estimators=100;, score=0.974 total time=   1.0s\n",
      "[CV 9/10] END learning_rate=0.01, max_depth=3, n_estimators=100;, score=1.000 total time=   1.0s\n",
      "[CV 5/10] END learning_rate=0.01, max_depth=4, n_estimators=60;, score=0.971 total time=   0.7s\n",
      "[CV 9/10] END learning_rate=0.01, max_depth=4, n_estimators=60;, score=1.000 total time=   0.8s\n",
      "[CV 3/10] END learning_rate=0.01, max_depth=4, n_estimators=100;, score=0.997 total time=   1.2s\n",
      "[CV 7/10] END learning_rate=0.01, max_depth=4, n_estimators=100;, score=0.978 total time=   1.7s\n",
      "[CV 2/10] END learning_rate=0.01, max_depth=5, n_estimators=60;, score=1.000 total time=   0.8s\n",
      "[CV 6/10] END learning_rate=0.01, max_depth=5, n_estimators=60;, score=0.978 total time=   0.8s\n",
      "[CV 10/10] END learning_rate=0.01, max_depth=5, n_estimators=60;, score=0.916 total time=   0.8s\n",
      "[CV 4/10] END learning_rate=0.01, max_depth=5, n_estimators=100;, score=0.996 total time=   1.3s\n",
      "[CV 8/10] END learning_rate=0.01, max_depth=5, n_estimators=100;, score=0.953 total time=   1.3s\n",
      "[CV 2/10] END learning_rate=0.01, max_depth=6, n_estimators=60;, score=1.000 total time=   0.9s\n",
      "[CV 4/10] END learning_rate=0.01, max_depth=6, n_estimators=60;, score=0.996 total time=   0.9s\n",
      "[CV 8/10] END learning_rate=0.01, max_depth=6, n_estimators=60;, score=0.972 total time=   1.0s\n",
      "[CV 2/10] END learning_rate=0.01, max_depth=6, n_estimators=100;, score=1.000 total time=   1.5s\n",
      "[CV 6/10] END learning_rate=0.01, max_depth=6, n_estimators=100;, score=0.983 total time=   1.5s\n",
      "[CV 10/10] END learning_rate=0.01, max_depth=6, n_estimators=100;, score=0.917 total time=   1.5s\n",
      "[CV 6/10] END learning_rate=0.01, max_depth=7, n_estimators=60;, score=1.000 total time=   1.0s\n",
      "[CV 9/10] END learning_rate=0.01, max_depth=7, n_estimators=60;, score=1.000 total time=   1.1s\n",
      "[CV 4/10] END learning_rate=0.01, max_depth=7, n_estimators=100;, score=0.998 total time=   1.7s\n",
      "[CV 8/10] END learning_rate=0.01, max_depth=7, n_estimators=100;, score=0.984 total time=   1.7s\n",
      "[CV 2/10] END learning_rate=0.01, max_depth=8, n_estimators=60;, score=1.000 total time=   1.3s\n",
      "[CV 4/10] END learning_rate=0.01, max_depth=8, n_estimators=60;, score=0.997 total time=   1.2s\n",
      "[CV 8/10] END learning_rate=0.01, max_depth=8, n_estimators=60;, score=0.984 total time=   1.2s\n",
      "[CV 1/10] END learning_rate=0.01, max_depth=8, n_estimators=100;, score=1.000 total time=   2.0s\n",
      "[CV 5/10] END learning_rate=0.01, max_depth=8, n_estimators=100;, score=0.999 total time=   1.9s\n",
      "[CV 10/10] END learning_rate=0.01, max_depth=8, n_estimators=100;, score=0.917 total time=   1.8s\n",
      "[CV 5/10] END learning_rate=0.01, max_depth=9, n_estimators=60;, score=0.999 total time=   1.2s\n",
      "[CV 10/10] END learning_rate=0.01, max_depth=9, n_estimators=60;, score=0.917 total time=   1.2s\n",
      "[CV 3/10] END learning_rate=0.01, max_depth=9, n_estimators=100;, score=1.000 total time=   2.0s\n",
      "[CV 7/10] END learning_rate=0.01, max_depth=9, n_estimators=100;, score=0.959 total time=   2.1s\n",
      "[CV 1/10] END learning_rate=0.05, max_depth=2, n_estimators=60;, score=0.999 total time=   0.5s\n",
      "[CV 3/10] END learning_rate=0.05, max_depth=2, n_estimators=60;, score=0.998 total time=   0.5s\n",
      "[CV 5/10] END learning_rate=0.05, max_depth=2, n_estimators=60;, score=0.990 total time=   0.5s\n",
      "[CV 7/10] END learning_rate=0.05, max_depth=2, n_estimators=60;, score=0.970 total time=   0.5s\n",
      "[CV 1/10] END learning_rate=0.05, max_depth=2, n_estimators=100;, score=1.000 total time=   0.8s\n",
      "[CV 5/10] END learning_rate=0.05, max_depth=2, n_estimators=100;, score=0.993 total time=   0.8s[CV 1/10] END learning_rate=0.1, max_depth=2, n_estimators=60;, score=1.000 total time=   0.5s\n",
      "[CV 5/10] END learning_rate=0.1, max_depth=2, n_estimators=60;, score=0.994 total time=   0.5s\n",
      "[CV 9/10] END learning_rate=0.1, max_depth=2, n_estimators=60;, score=1.000 total time=   0.5s\n",
      "[CV 3/10] END learning_rate=0.1, max_depth=2, n_estimators=100;, score=0.999 total time=   0.8s\n",
      "[CV 7/10] END learning_rate=0.1, max_depth=2, n_estimators=100;, score=0.979 total time=   0.8s\n",
      "[CV 2/10] END learning_rate=0.1, max_depth=3, n_estimators=60;, score=1.000 total time=   0.6s\n",
      "[CV 6/10] END learning_rate=0.1, max_depth=3, n_estimators=60;, score=0.988 total time=   0.6s\n",
      "[CV 10/10] END learning_rate=0.1, max_depth=3, n_estimators=60;, score=0.986 total time=   0.6s\n",
      "[CV 4/10] END learning_rate=0.1, max_depth=3, n_estimators=100;, score=0.999 total time=   1.0s\n",
      "[CV 8/10] END learning_rate=0.1, max_depth=3, n_estimators=100;, score=0.984 total time=   1.0s\n",
      "[CV 2/10] END learning_rate=0.1, max_depth=4, n_estimators=60;, score=1.000 total time=   0.8s\n",
      "[CV 4/10] END learning_rate=0.1, max_depth=4, n_estimators=60;, score=0.999 total time=   0.8s\n",
      "[CV 9/10] END learning_rate=0.1, max_depth=4, n_estimators=60;, score=1.000 total time=   0.7s\n",
      "[CV 4/10] END learning_rate=0.1, max_depth=4, n_estimators=100;, score=0.999 total time=   1.2s\n",
      "[CV 7/10] END learning_rate=0.1, max_depth=4, n_estimators=100;, score=0.979 total time=   1.2s\n",
      "[CV 1/10] END learning_rate=0.1, max_depth=5, n_estimators=60;, score=1.000 total time=   0.9s\n",
      "[CV 3/10] END learning_rate=0.1, max_depth=5, n_estimators=60;, score=1.000 total time=   0.9s\n",
      "[CV 7/10] END learning_rate=0.1, max_depth=5, n_estimators=60;, score=0.976 total time=   0.8s\n",
      "[CV 1/10] END learning_rate=0.1, max_depth=5, n_estimators=100;, score=1.000 total time=   1.4s\n",
      "[CV 5/10] END learning_rate=0.1, max_depth=5, n_estimators=100;, score=0.999 total time=   1.4s\n",
      "[CV 9/10] END learning_rate=0.1, max_depth=5, n_estimators=100;, score=1.000 total time=   1.4s\n",
      "[CV 6/10] END learning_rate=0.1, max_depth=6, n_estimators=60;, score=1.000 total time=   1.0s\n",
      "[CV 10/10] END learning_rate=0.1, max_depth=6, n_estimators=60;, score=0.969 total time=   0.9s\n",
      "[CV 3/10] END learning_rate=0.1, max_depth=6, n_estimators=100;, score=1.000 total time=   1.6s\n",
      "[CV 7/10] END learning_rate=0.1, max_depth=6, n_estimators=100;, score=0.977 total time=   1.6s\n",
      "[CV 1/10] END learning_rate=0.1, max_depth=7, n_estimators=60;, score=1.000 total time=   1.1s\n",
      "[CV 3/10] END learning_rate=0.1, max_depth=7, n_estimators=60;, score=1.000 total time=   1.5s\n",
      "[CV 8/10] END learning_rate=0.1, max_depth=7, n_estimators=60;, score=0.993 total time=   1.1s\n",
      "[CV 2/10] END learning_rate=0.1, max_depth=7, n_estimators=100;, score=1.000 total time=   1.9s\n",
      "[CV 6/10] END learning_rate=0.1, max_depth=7, n_estimators=100;, score=1.000 total time=   1.7s\n",
      "[CV 10/10] END learning_rate=0.1, max_depth=7, n_estimators=100;, score=0.966 total time=   1.7s\n",
      "[CV 5/10] END learning_rate=0.1, max_depth=8, n_estimators=60;, score=0.999 total time=   1.2s\n",
      "[CV 10/10] END learning_rate=0.1, max_depth=8, n_estimators=60;, score=0.948 total time=   1.1s\n",
      "[CV 3/10] END learning_rate=0.1, max_depth=8, n_estimators=100;, score=1.000 total time=   1.8s\n",
      "[CV 7/10] END learning_rate=0.1, max_depth=8, n_estimators=100;, score=0.966 total time=   1.8s\n",
      "[CV 1/10] END learning_rate=0.1, max_depth=9, n_estimators=60;, score=1.000 total time=   1.2s\n",
      "[CV 3/10] END learning_rate=0.1, max_depth=9, n_estimators=60;, score=1.000 total time=   1.2s\n",
      "[CV 7/10] END learning_rate=0.1, max_depth=9, n_estimators=60;, score=0.968 total time=   1.2s\n",
      "[CV 2/10] END learning_rate=0.1, max_depth=9, n_estimators=100;, score=1.000 total time=   1.9s\n",
      "[CV 5/10] END learning_rate=0.1, max_depth=9, n_estimators=100;, score=0.999 total time=   2.0s\n",
      "[CV 10/10] END learning_rate=0.1, max_depth=9, n_estimators=100;, score=0.966 total time=   1.9s\n",
      "[CV 9/10] END learning_rate=0.01, max_depth=2, n_estimators=60;, score=1.000 total time=   0.5s\n",
      "[CV 3/10] END learning_rate=0.01, max_depth=2, n_estimators=100;, score=0.997 total time=   0.8s\n",
      "[CV 7/10] END learning_rate=0.01, max_depth=2, n_estimators=100;, score=0.973 total time=   0.8s\n",
      "[CV 1/10] END learning_rate=0.01, max_depth=3, n_estimators=60;, score=0.948 total time=   0.6s\n",
      "[CV 4/10] END learning_rate=0.01, max_depth=3, n_estimators=60;, score=0.979 total time=   0.6s\n",
      "[CV 8/10] END learning_rate=0.01, max_depth=3, n_estimators=60;, score=0.901 total time=   0.6s\n",
      "[CV 2/10] END learning_rate=0.01, max_depth=3, n_estimators=100;, score=1.000 total time=   1.0s\n",
      "[CV 6/10] END learning_rate=0.01, max_depth=3, n_estimators=100;, score=0.920 total time=   0.9s\n",
      "[CV 10/10] END learning_rate=0.01, max_depth=3, n_estimators=100;, score=0.944 total time=   1.0s\n",
      "[CV 6/10] END learning_rate=0.01, max_depth=4, n_estimators=60;, score=0.935 total time=   0.7s\n",
      "[CV 10/10] END learning_rate=0.01, max_depth=4, n_estimators=60;, score=0.914 total time=   0.7s\n",
      "[CV 4/10] END learning_rate=0.01, max_depth=4, n_estimators=100;, score=0.995 total time=   1.2s\n",
      "[CV 8/10] END learning_rate=0.01, max_depth=4, n_estimators=100;, score=0.915 total time=   1.2s\n",
      "[CV 10/10] END learning_rate=0.01, max_depth=4, n_estimators=100;, score=0.914 total time=   1.2s\n",
      "[CV 5/10] END learning_rate=0.01, max_depth=5, n_estimators=60;, score=0.983 total time=   0.8s\n",
      "[CV 9/10] END learning_rate=0.01, max_depth=5, n_estimators=60;, score=1.000 total time=   0.8s\n",
      "[CV 3/10] END learning_rate=0.01, max_depth=5, n_estimators=100;, score=0.999 total time=   1.3s\n",
      "[CV 7/10] END learning_rate=0.01, max_depth=5, n_estimators=100;, score=0.957 total time=   1.3s\n",
      "[CV 1/10] END learning_rate=0.01, max_depth=6, n_estimators=60;, score=1.000 total time=   0.9s\n",
      "[CV 3/10] END learning_rate=0.01, max_depth=6, n_estimators=60;, score=0.999 total time=   0.9s\n",
      "[CV 7/10] END learning_rate=0.01, max_depth=6, n_estimators=60;, score=0.971 total time=   1.0s\n",
      "[CV 1/10] END learning_rate=0.01, max_depth=6, n_estimators=100;, score=1.000 total time=   1.5s\n",
      "[CV 5/10] END learning_rate=0.01, max_depth=6, n_estimators=100;, score=0.991 total time=   1.5s\n",
      "[CV 9/10] END learning_rate=0.01, max_depth=6, n_estimators=100;, score=1.000 total time=   1.5s\n",
      "[CV 5/10] END learning_rate=0.01, max_depth=7, n_estimators=60;, score=0.998 total time=   1.0s\n",
      "[CV 10/10] END learning_rate=0.01, max_depth=7, n_estimators=60;, score=0.917 total time=   1.0s\n",
      "[CV 3/10] END learning_rate=0.01, max_depth=7, n_estimators=100;, score=1.000 total time=   1.7s\n",
      "[CV 7/10] END learning_rate=0.01, max_depth=7, n_estimators=100;, score=0.966 total time=   1.7s\n",
      "[CV 1/10] END learning_rate=0.01, max_depth=8, n_estimators=60;, score=1.000 total time=   1.2s\n",
      "[CV 3/10] END learning_rate=0.01, max_depth=8, n_estimators=60;, score=1.000 total time=   1.3s\n",
      "[CV 7/10] END learning_rate=0.01, max_depth=8, n_estimators=60;, score=0.959 total time=   1.2s\n",
      "[CV 2/10] END learning_rate=0.01, max_depth=8, n_estimators=100;, score=1.000 total time=   1.9s\n",
      "[CV 6/10] END learning_rate=0.01, max_depth=8, n_estimators=100;, score=1.000 total time=   1.8s\n",
      "[CV 9/10] END learning_rate=0.01, max_depth=8, n_estimators=100;, score=1.000 total time=   1.9s\n",
      "[CV 6/10] END learning_rate=0.01, max_depth=9, n_estimators=60;, score=1.000 total time=   1.2s\n",
      "[CV 9/10] END learning_rate=0.01, max_depth=9, n_estimators=60;, score=1.000 total time=   1.3s\n",
      "[CV 4/10] END learning_rate=0.01, max_depth=9, n_estimators=100;, score=0.999 total time=   2.0s\n",
      "[CV 8/10] END learning_rate=0.01, max_depth=9, n_estimators=100;, score=0.989 total time=   2.4s\n",
      "[CV 2/10] END learning_rate=0.05, max_depth=2, n_estimators=60;, score=1.000 total time=   0.5s\n",
      "[CV 4/10] END learning_rate=0.05, max_depth=2, n_estimators=60;, score=0.996 total time=   0.5s\n",
      "[CV 6/10] END learning_rate=0.05, max_depth=2, n_estimators=60;, score=0.965 total time=   0.5s\n",
      "[CV 10/10] END learning_rate=0.05, max_depth=2, n_estimators=60;, score=0.969 total time=   0.5s\n",
      "[CV 4/10] END learning_rate=0.05, max_depth=2, n_estimators=100;, score=0.997 total time=   0.8s\n",
      "[CV 8/10] END learning_rate=0.05, max_depth=2, n_estimators=100;, score=0.960 total time=   0.8s\n",
      "[CV 2/10] END learning_rate=0.05, max_depth=3, n_estimators=60;, score=1.000 total time=   0.6s[CV 4/10] END learning_rate=0.1, max_depth=2, n_estimators=60;, score=0.997 total time=   0.5s\n",
      "[CV 8/10] END learning_rate=0.1, max_depth=2, n_estimators=60;, score=0.962 total time=   0.5s\n",
      "[CV 2/10] END learning_rate=0.1, max_depth=2, n_estimators=100;, score=1.000 total time=   0.8s\n",
      "[CV 6/10] END learning_rate=0.1, max_depth=2, n_estimators=100;, score=0.986 total time=   0.8s\n",
      "[CV 10/10] END learning_rate=0.1, max_depth=2, n_estimators=100;, score=0.986 total time=   0.8s\n",
      "[CV 4/10] END learning_rate=0.1, max_depth=3, n_estimators=60;, score=0.999 total time=   0.6s\n",
      "[CV 8/10] END learning_rate=0.1, max_depth=3, n_estimators=60;, score=0.969 total time=   0.6s\n",
      "[CV 2/10] END learning_rate=0.1, max_depth=3, n_estimators=100;, score=1.000 total time=   1.0s\n",
      "[CV 6/10] END learning_rate=0.1, max_depth=3, n_estimators=100;, score=0.994 total time=   1.0s\n",
      "[CV 10/10] END learning_rate=0.1, max_depth=3, n_estimators=100;, score=0.988 total time=   1.1s\n",
      "[CV 5/10] END learning_rate=0.1, max_depth=4, n_estimators=60;, score=0.999 total time=   0.8s\n",
      "[CV 7/10] END learning_rate=0.1, max_depth=4, n_estimators=60;, score=0.974 total time=   0.7s\n",
      "[CV 1/10] END learning_rate=0.1, max_depth=4, n_estimators=100;, score=1.000 total time=   1.2s\n",
      "[CV 5/10] END learning_rate=0.1, max_depth=4, n_estimators=100;, score=0.999 total time=   1.2s\n",
      "[CV 9/10] END learning_rate=0.1, max_depth=4, n_estimators=100;, score=1.000 total time=   1.2s\n",
      "[CV 6/10] END learning_rate=0.1, max_depth=5, n_estimators=60;, score=1.000 total time=   0.9s\n",
      "[CV 10/10] END learning_rate=0.1, max_depth=5, n_estimators=60;, score=0.973 total time=   0.8s\n",
      "[CV 4/10] END learning_rate=0.1, max_depth=5, n_estimators=100;, score=0.999 total time=   1.4s\n",
      "[CV 8/10] END learning_rate=0.1, max_depth=5, n_estimators=100;, score=0.993 total time=   1.4s\n",
      "[CV 1/10] END learning_rate=0.1, max_depth=6, n_estimators=60;, score=1.000 total time=   1.0s\n",
      "[CV 3/10] END learning_rate=0.1, max_depth=6, n_estimators=60;, score=1.000 total time=   1.0s\n",
      "[CV 8/10] END learning_rate=0.1, max_depth=6, n_estimators=60;, score=0.992 total time=   0.9s\n",
      "[CV 2/10] END learning_rate=0.1, max_depth=6, n_estimators=100;, score=1.000 total time=   1.6s\n",
      "[CV 6/10] END learning_rate=0.1, max_depth=6, n_estimators=100;, score=1.000 total time=   1.6s\n",
      "[CV 10/10] END learning_rate=0.1, max_depth=6, n_estimators=100;, score=0.975 total time=   1.9s\n",
      "[CV 6/10] END learning_rate=0.1, max_depth=7, n_estimators=60;, score=1.000 total time=   1.0s\n",
      "[CV 9/10] END learning_rate=0.1, max_depth=7, n_estimators=60;, score=1.000 total time=   1.2s\n",
      "[CV 3/10] END learning_rate=0.1, max_depth=7, n_estimators=100;, score=1.000 total time=   1.9s\n",
      "[CV 8/10] END learning_rate=0.1, max_depth=7, n_estimators=100;, score=0.993 total time=   1.7s\n",
      "[CV 2/10] END learning_rate=0.1, max_depth=8, n_estimators=60;, score=1.000 total time=   1.1s\n",
      "[CV 4/10] END learning_rate=0.1, max_depth=8, n_estimators=60;, score=0.999 total time=   1.1s\n",
      "[CV 8/10] END learning_rate=0.1, max_depth=8, n_estimators=60;, score=0.993 total time=   1.2s\n",
      "[CV 2/10] END learning_rate=0.1, max_depth=8, n_estimators=100;, score=1.000 total time=   1.8s\n",
      "[CV 5/10] END learning_rate=0.1, max_depth=8, n_estimators=100;, score=0.999 total time=   1.8s\n",
      "[CV 10/10] END learning_rate=0.1, max_depth=8, n_estimators=100;, score=0.967 total time=   1.8s\n",
      "[CV 5/10] END learning_rate=0.1, max_depth=9, n_estimators=60;, score=0.999 total time=   1.2s\n",
      "[CV 9/10] END learning_rate=0.1, max_depth=9, n_estimators=60;, score=1.000 total time=   1.2s\n",
      "[CV 4/10] END learning_rate=0.1, max_depth=9, n_estimators=100;, score=0.999 total time=   1.9s\n",
      "[CV 8/10] END learning_rate=0.1, max_depth=9, n_estimators=100;, score=0.993 total time=   1.9s\n",
      "[CV 2/10] END learning_rate=0.01, max_depth=2, n_estimators=60;, score=1.000 total time=   0.5s\n",
      "[CV 4/10] END learning_rate=0.01, max_depth=2, n_estimators=60;, score=0.970 total time=   0.5s\n",
      "[CV 6/10] END learning_rate=0.01, max_depth=2, n_estimators=60;, score=0.843 total time=   0.5s\n",
      "[CV 8/10] END learning_rate=0.01, max_depth=2, n_estimators=60;, score=0.852 total time=   0.5s\n",
      "[CV 2/10] END learning_rate=0.01, max_depth=2, n_estimators=100;, score=1.000 total time=   0.8s\n",
      "[CV 6/10] END learning_rate=0.01, max_depth=2, n_estimators=100;, score=0.892 total time=   0.8s\n",
      "[CV 10/10] END learning_rate=0.01, max_depth=2, n_estimators=100;, score=0.926 total time=   0.8s\n",
      "[CV 5/10] END learning_rate=0.01, max_depth=3, n_estimators=60;, score=0.955 total time=   0.6s\n",
      "[CV 9/10] END learning_rate=0.01, max_depth=3, n_estimators=60;, score=1.000 total time=   0.6s\n",
      "[CV 3/10] END learning_rate=0.01, max_depth=3, n_estimators=100;, score=0.997 total time=   1.0s\n",
      "[CV 7/10] END learning_rate=0.01, max_depth=3, n_estimators=100;, score=0.977 total time=   1.0s\n",
      "[CV 1/10] END learning_rate=0.01, max_depth=4, n_estimators=60;, score=0.996 total time=   0.7s\n",
      "[CV 3/10] END learning_rate=0.01, max_depth=4, n_estimators=60;, score=0.997 total time=   0.7s\n",
      "[CV 7/10] END learning_rate=0.01, max_depth=4, n_estimators=60;, score=0.980 total time=   0.7s\n",
      "[CV 1/10] END learning_rate=0.01, max_depth=4, n_estimators=100;, score=0.999 total time=   1.2s\n",
      "[CV 5/10] END learning_rate=0.01, max_depth=4, n_estimators=100;, score=0.981 total time=   1.3s\n",
      "[CV 9/10] END learning_rate=0.01, max_depth=4, n_estimators=100;, score=1.000 total time=   1.2s\n",
      "[CV 4/10] END learning_rate=0.01, max_depth=5, n_estimators=60;, score=0.994 total time=   0.8s\n",
      "[CV 8/10] END learning_rate=0.01, max_depth=5, n_estimators=60;, score=0.952 total time=   0.8s\n",
      "[CV 2/10] END learning_rate=0.01, max_depth=5, n_estimators=100;, score=1.000 total time=   1.4s\n",
      "[CV 6/10] END learning_rate=0.01, max_depth=5, n_estimators=100;, score=0.978 total time=   1.3s\n",
      "[CV 10/10] END learning_rate=0.01, max_depth=5, n_estimators=100;, score=0.916 total time=   1.3s\n",
      "[CV 6/10] END learning_rate=0.01, max_depth=6, n_estimators=60;, score=0.983 total time=   0.9s\n",
      "[CV 10/10] END learning_rate=0.01, max_depth=6, n_estimators=60;, score=0.916 total time=   1.0s\n",
      "[CV 4/10] END learning_rate=0.01, max_depth=6, n_estimators=100;, score=0.997 total time=   1.5s\n",
      "[CV 8/10] END learning_rate=0.01, max_depth=6, n_estimators=100;, score=0.975 total time=   1.5s\n",
      "[CV 2/10] END learning_rate=0.01, max_depth=7, n_estimators=60;, score=1.000 total time=   1.1s\n",
      "[CV 4/10] END learning_rate=0.01, max_depth=7, n_estimators=60;, score=0.996 total time=   1.0s\n",
      "[CV 8/10] END learning_rate=0.01, max_depth=7, n_estimators=60;, score=0.982 total time=   1.0s\n",
      "[CV 2/10] END learning_rate=0.01, max_depth=7, n_estimators=100;, score=1.000 total time=   1.7s\n",
      "[CV 6/10] END learning_rate=0.01, max_depth=7, n_estimators=100;, score=1.000 total time=   1.7s\n",
      "[CV 10/10] END learning_rate=0.01, max_depth=7, n_estimators=100;, score=0.917 total time=   1.8s\n",
      "[CV 6/10] END learning_rate=0.01, max_depth=8, n_estimators=60;, score=1.000 total time=   1.2s\n",
      "[CV 10/10] END learning_rate=0.01, max_depth=8, n_estimators=60;, score=0.917 total time=   1.2s\n",
      "[CV 4/10] END learning_rate=0.01, max_depth=8, n_estimators=100;, score=0.998 total time=   1.9s\n",
      "[CV 8/10] END learning_rate=0.01, max_depth=8, n_estimators=100;, score=0.989 total time=   1.8s\n",
      "[CV 2/10] END learning_rate=0.01, max_depth=9, n_estimators=60;, score=1.000 total time=   1.2s\n",
      "[CV 4/10] END learning_rate=0.01, max_depth=9, n_estimators=60;, score=0.999 total time=   1.2s\n",
      "[CV 7/10] END learning_rate=0.01, max_depth=9, n_estimators=60;, score=0.958 total time=   1.2s\n",
      "[CV 2/10] END learning_rate=0.01, max_depth=9, n_estimators=100;, score=1.000 total time=   2.0s\n",
      "[CV 6/10] END learning_rate=0.01, max_depth=9, n_estimators=100;, score=1.000 total time=   2.4s\n",
      "[CV 9/10] END learning_rate=0.01, max_depth=9, n_estimators=100;, score=1.000 total time=   2.0s\n",
      "[CV 8/10] END learning_rate=0.05, max_depth=2, n_estimators=60;, score=0.933 total time=   0.5s\n",
      "[CV 2/10] END learning_rate=0.05, max_depth=2, n_estimators=100;, score=1.000 total time=   0.8s\n",
      "[CV 6/10] END learning_rate=0.05, max_depth=2, n_estimators=100;, score=0.979 total time=   0.8s\n",
      "[CV 10/10] END learning_rate=0.05, max_depth=2, n_estimators=100;, score=0.974 total time=   0.8s\n",
      "[CV 6/10] END learning_rate=0.05, max_depth=3, n_estimators=60;, score=0.978 total time=   0.6s[CV 3/10] END learning_rate=0.1, max_depth=2, n_estimators=60;, score=0.998 total time=   0.5s\n",
      "[CV 7/10] END learning_rate=0.1, max_depth=2, n_estimators=60;, score=0.974 total time=   0.5s\n",
      "[CV 10/10] END learning_rate=0.1, max_depth=2, n_estimators=60;, score=0.980 total time=   0.5s\n",
      "[CV 4/10] END learning_rate=0.1, max_depth=2, n_estimators=100;, score=0.998 total time=   0.8s\n",
      "[CV 8/10] END learning_rate=0.1, max_depth=2, n_estimators=100;, score=0.977 total time=   0.8s\n",
      "[CV 1/10] END learning_rate=0.1, max_depth=3, n_estimators=60;, score=1.000 total time=   0.6s\n",
      "[CV 5/10] END learning_rate=0.1, max_depth=3, n_estimators=60;, score=0.997 total time=   0.6s\n",
      "[CV 9/10] END learning_rate=0.1, max_depth=3, n_estimators=60;, score=1.000 total time=   0.6s\n",
      "[CV 3/10] END learning_rate=0.1, max_depth=3, n_estimators=100;, score=1.000 total time=   1.0s\n",
      "[CV 7/10] END learning_rate=0.1, max_depth=3, n_estimators=100;, score=0.980 total time=   1.0s\n",
      "[CV 1/10] END learning_rate=0.1, max_depth=4, n_estimators=60;, score=1.000 total time=   0.8s\n",
      "[CV 3/10] END learning_rate=0.1, max_depth=4, n_estimators=60;, score=1.000 total time=   0.8s\n",
      "[CV 10/10] END learning_rate=0.1, max_depth=4, n_estimators=60;, score=0.969 total time=   0.7s\n",
      "[CV 3/10] END learning_rate=0.1, max_depth=4, n_estimators=100;, score=1.000 total time=   1.2s\n",
      "[CV 8/10] END learning_rate=0.1, max_depth=4, n_estimators=100;, score=0.992 total time=   1.2s\n",
      "[CV 2/10] END learning_rate=0.1, max_depth=5, n_estimators=60;, score=1.000 total time=   0.9s\n",
      "[CV 4/10] END learning_rate=0.1, max_depth=5, n_estimators=60;, score=0.999 total time=   0.9s\n",
      "[CV 8/10] END learning_rate=0.1, max_depth=5, n_estimators=60;, score=0.990 total time=   0.8s\n",
      "[CV 2/10] END learning_rate=0.1, max_depth=5, n_estimators=100;, score=1.000 total time=   1.4s\n",
      "[CV 6/10] END learning_rate=0.1, max_depth=5, n_estimators=100;, score=1.000 total time=   1.4s\n",
      "[CV 10/10] END learning_rate=0.1, max_depth=5, n_estimators=100;, score=0.989 total time=   1.4s\n",
      "[CV 5/10] END learning_rate=0.1, max_depth=6, n_estimators=60;, score=0.999 total time=   0.9s\n",
      "[CV 9/10] END learning_rate=0.1, max_depth=6, n_estimators=60;, score=1.000 total time=   1.0s\n",
      "[CV 4/10] END learning_rate=0.1, max_depth=6, n_estimators=100;, score=0.999 total time=   1.6s\n",
      "[CV 8/10] END learning_rate=0.1, max_depth=6, n_estimators=100;, score=0.993 total time=   1.6s\n",
      "[CV 2/10] END learning_rate=0.1, max_depth=7, n_estimators=60;, score=1.000 total time=   1.1s\n",
      "[CV 4/10] END learning_rate=0.1, max_depth=7, n_estimators=60;, score=0.999 total time=   1.4s\n",
      "[CV 7/10] END learning_rate=0.1, max_depth=7, n_estimators=60;, score=0.975 total time=   1.1s\n",
      "[CV 1/10] END learning_rate=0.1, max_depth=7, n_estimators=100;, score=1.000 total time=   1.9s\n",
      "[CV 5/10] END learning_rate=0.1, max_depth=7, n_estimators=100;, score=0.999 total time=   1.7s\n",
      "[CV 9/10] END learning_rate=0.1, max_depth=7, n_estimators=100;, score=1.000 total time=   1.7s\n",
      "[CV 6/10] END learning_rate=0.1, max_depth=8, n_estimators=60;, score=1.000 total time=   1.1s\n",
      "[CV 9/10] END learning_rate=0.1, max_depth=8, n_estimators=60;, score=1.000 total time=   1.2s\n",
      "[CV 4/10] END learning_rate=0.1, max_depth=8, n_estimators=100;, score=0.999 total time=   1.8s\n",
      "[CV 8/10] END learning_rate=0.1, max_depth=8, n_estimators=100;, score=0.993 total time=   1.8s\n",
      "[CV 2/10] END learning_rate=0.1, max_depth=9, n_estimators=60;, score=1.000 total time=   1.2s\n",
      "[CV 4/10] END learning_rate=0.1, max_depth=9, n_estimators=60;, score=0.999 total time=   1.2s\n",
      "[CV 8/10] END learning_rate=0.1, max_depth=9, n_estimators=60;, score=0.993 total time=   1.2s\n",
      "[CV 1/10] END learning_rate=0.1, max_depth=9, n_estimators=100;, score=1.000 total time=   1.9s\n",
      "[CV 6/10] END learning_rate=0.1, max_depth=9, n_estimators=100;, score=1.000 total time=   1.9s\n",
      "[CV 9/10] END learning_rate=0.1, max_depth=9, n_estimators=100;, score=1.000 total time=   2.0s\n",
      "[CV 10/10] END learning_rate=0.01, max_depth=2, n_estimators=60;, score=0.923 total time=   0.5s\n",
      "[CV 4/10] END learning_rate=0.01, max_depth=2, n_estimators=100;, score=0.991 total time=   0.8s\n",
      "[CV 8/10] END learning_rate=0.01, max_depth=2, n_estimators=100;, score=0.853 total time=   0.8s\n",
      "[CV 2/10] END learning_rate=0.01, max_depth=3, n_estimators=60;, score=1.000 total time=   0.6s\n",
      "[CV 6/10] END learning_rate=0.01, max_depth=3, n_estimators=60;, score=0.887 total time=   0.6s\n",
      "[CV 10/10] END learning_rate=0.01, max_depth=3, n_estimators=60;, score=0.943 total time=   0.6s\n",
      "[CV 4/10] END learning_rate=0.01, max_depth=3, n_estimators=100;, score=0.991 total time=   0.9s\n",
      "[CV 8/10] END learning_rate=0.01, max_depth=3, n_estimators=100;, score=0.907 total time=   1.0s\n",
      "[CV 2/10] END learning_rate=0.01, max_depth=4, n_estimators=60;, score=1.000 total time=   0.7s\n",
      "[CV 4/10] END learning_rate=0.01, max_depth=4, n_estimators=60;, score=0.991 total time=   0.7s\n",
      "[CV 8/10] END learning_rate=0.01, max_depth=4, n_estimators=60;, score=0.907 total time=   0.7s\n",
      "[CV 2/10] END learning_rate=0.01, max_depth=4, n_estimators=100;, score=1.000 total time=   1.2s\n",
      "[CV 6/10] END learning_rate=0.01, max_depth=4, n_estimators=100;, score=0.947 total time=   1.6s\n",
      "[CV 1/10] END learning_rate=0.01, max_depth=5, n_estimators=60;, score=1.000 total time=   0.9s\n",
      "[CV 3/10] END learning_rate=0.01, max_depth=5, n_estimators=60;, score=0.998 total time=   0.8s\n",
      "[CV 7/10] END learning_rate=0.01, max_depth=5, n_estimators=60;, score=0.960 total time=   0.8s\n",
      "[CV 1/10] END learning_rate=0.01, max_depth=5, n_estimators=100;, score=1.000 total time=   1.3s\n",
      "[CV 5/10] END learning_rate=0.01, max_depth=5, n_estimators=100;, score=0.984 total time=   1.3s\n",
      "[CV 9/10] END learning_rate=0.01, max_depth=5, n_estimators=100;, score=1.000 total time=   1.4s\n",
      "[CV 5/10] END learning_rate=0.01, max_depth=6, n_estimators=60;, score=0.989 total time=   0.9s\n",
      "[CV 9/10] END learning_rate=0.01, max_depth=6, n_estimators=60;, score=1.000 total time=   1.0s\n",
      "[CV 3/10] END learning_rate=0.01, max_depth=6, n_estimators=100;, score=1.000 total time=   1.5s\n",
      "[CV 7/10] END learning_rate=0.01, max_depth=6, n_estimators=100;, score=0.970 total time=   1.5s\n",
      "[CV 1/10] END learning_rate=0.01, max_depth=7, n_estimators=60;, score=1.000 total time=   1.0s\n",
      "[CV 3/10] END learning_rate=0.01, max_depth=7, n_estimators=60;, score=1.000 total time=   1.0s\n",
      "[CV 7/10] END learning_rate=0.01, max_depth=7, n_estimators=60;, score=0.955 total time=   1.0s\n",
      "[CV 1/10] END learning_rate=0.01, max_depth=7, n_estimators=100;, score=1.000 total time=   1.7s\n",
      "[CV 5/10] END learning_rate=0.01, max_depth=7, n_estimators=100;, score=0.999 total time=   1.7s\n",
      "[CV 9/10] END learning_rate=0.01, max_depth=7, n_estimators=100;, score=1.000 total time=   1.8s\n",
      "[CV 5/10] END learning_rate=0.01, max_depth=8, n_estimators=60;, score=0.998 total time=   1.2s\n",
      "[CV 9/10] END learning_rate=0.01, max_depth=8, n_estimators=60;, score=1.000 total time=   1.2s\n",
      "[CV 3/10] END learning_rate=0.01, max_depth=8, n_estimators=100;, score=1.000 total time=   1.9s\n",
      "[CV 7/10] END learning_rate=0.01, max_depth=8, n_estimators=100;, score=0.960 total time=   1.9s\n",
      "[CV 1/10] END learning_rate=0.01, max_depth=9, n_estimators=60;, score=1.000 total time=   1.2s\n",
      "[CV 3/10] END learning_rate=0.01, max_depth=9, n_estimators=60;, score=1.000 total time=   1.2s\n",
      "[CV 8/10] END learning_rate=0.01, max_depth=9, n_estimators=60;, score=0.984 total time=   1.2s\n",
      "[CV 1/10] END learning_rate=0.01, max_depth=9, n_estimators=100;, score=1.000 total time=   2.0s\n",
      "[CV 5/10] END learning_rate=0.01, max_depth=9, n_estimators=100;, score=0.999 total time=   2.4s\n",
      "[CV 10/10] END learning_rate=0.01, max_depth=9, n_estimators=100;, score=0.917 total time=   1.9s\n",
      "[CV 9/10] END learning_rate=0.05, max_depth=2, n_estimators=60;, score=1.000 total time=   0.5s\n",
      "[CV 3/10] END learning_rate=0.05, max_depth=2, n_estimators=100;, score=0.998 total time=   0.8s\n",
      "[CV 7/10] END learning_rate=0.05, max_depth=2, n_estimators=100;, score=0.976 total time=   0.8s\n",
      "[CV 1/10] END learning_rate=0.05, max_depth=3, n_estimators=60;, score=0.999 total time=   0.6s\n",
      "[CV 4/10] END learning_rate=0.05, max_depth=3, n_estimators=60;, score=0.997 total time=   0.6s\n",
      "[CV 8/10] END learning_rate=0.05, max_depth=3, n_estimators=60;, score=0.952 total time=   0.6s"
     ]
    },
    {
     "data": {
      "text/plain": [
       "GridSearchCV(cv=10,\n",
       "             estimator=XGBClassifier(base_score=None, booster=None,\n",
       "                                     callbacks=None, colsample_bylevel=None,\n",
       "                                     colsample_bynode=None,\n",
       "                                     colsample_bytree=None,\n",
       "                                     early_stopping_rounds=None,\n",
       "                                     enable_categorical=False, eval_metric=None,\n",
       "                                     gamma=None, gpu_id=None, grow_policy=None,\n",
       "                                     importance_type=None,\n",
       "                                     interaction_constraints=None,\n",
       "                                     learning_rate=None, max_bin=None,\n",
       "                                     max_c...\n",
       "                                     max_delta_step=None, max_depth=None,\n",
       "                                     max_leaves=None, min_child_weight=None,\n",
       "                                     missing=nan, monotone_constraints=None,\n",
       "                                     n_estimators=100, n_jobs=None, nthread=1,\n",
       "                                     num_parallel_tree=None, predictor=None,\n",
       "                                     random_state=None, reg_alpha=None, ...),\n",
       "             n_jobs=4,\n",
       "             param_grid={'learning_rate': [0.1, 0.01, 0.05],\n",
       "                         'max_depth': range(2, 10),\n",
       "                         'n_estimators': range(60, 120, 40)},\n",
       "             scoring='roc_auc', verbose=3)"
      ]
     },
     "execution_count": 22,
     "metadata": {},
     "output_type": "execute_result"
    }
   ],
   "source": [
    "# tuning the parameters\n",
    "estimator = xgboost.XGBClassifier(\n",
    "    objective= 'binary:logistic',\n",
    "    nthread=1,\n",
    "    seed=42\n",
    ")\n",
    "parameters = {\n",
    "    'max_depth': range (2, 10, 1),\n",
    "    'n_estimators': range(60, 120, 40),\n",
    "    'learning_rate': [0.1, 0.01, 0.05]\n",
    "}\n",
    "grid_search = GridSearchCV(\n",
    "    estimator=estimator,\n",
    "    param_grid=parameters,\n",
    "    scoring = 'roc_auc',\n",
    "    n_jobs = 4,\n",
    "    cv = 10,\n",
    "    verbose=3\n",
    ")\n",
    "grid_search.fit(x_bal, y_bal)"
   ]
  },
  {
   "cell_type": "code",
   "execution_count": 23,
   "id": "f26947c1",
   "metadata": {
    "execution": {
     "iopub.execute_input": "2022-05-06T16:57:38.187094Z",
     "iopub.status.busy": "2022-05-06T16:57:38.186618Z",
     "iopub.status.idle": "2022-05-06T16:57:38.198822Z",
     "shell.execute_reply": "2022-05-06T16:57:38.197903Z"
    },
    "papermill": {
     "duration": 0.095249,
     "end_time": "2022-05-06T16:57:38.200973",
     "exception": false,
     "start_time": "2022-05-06T16:57:38.105724",
     "status": "completed"
    },
    "tags": []
   },
   "outputs": [
    {
     "data": {
      "text/plain": [
       "XGBClassifier(base_score=0.5, booster='gbtree', callbacks=None,\n",
       "              colsample_bylevel=1, colsample_bynode=1, colsample_bytree=1,\n",
       "              early_stopping_rounds=None, enable_categorical=False,\n",
       "              eval_metric=None, gamma=0, gpu_id=-1, grow_policy='depthwise',\n",
       "              importance_type=None, interaction_constraints='',\n",
       "              learning_rate=0.1, max_bin=256, max_cat_to_onehot=4,\n",
       "              max_delta_step=0, max_depth=5, max_leaves=0, min_child_weight=1,\n",
       "              missing=nan, monotone_constraints='()', n_estimators=100,\n",
       "              n_jobs=1, nthread=1, num_parallel_tree=1, predictor='auto',\n",
       "              random_state=42, reg_alpha=0, ...)"
      ]
     },
     "execution_count": 23,
     "metadata": {},
     "output_type": "execute_result"
    }
   ],
   "source": [
    "grid_search.best_estimator_"
   ]
  },
  {
   "cell_type": "code",
   "execution_count": 24,
   "id": "23a9457c",
   "metadata": {
    "execution": {
     "iopub.execute_input": "2022-05-06T16:57:38.359003Z",
     "iopub.status.busy": "2022-05-06T16:57:38.358698Z",
     "iopub.status.idle": "2022-05-06T16:57:38.364432Z",
     "shell.execute_reply": "2022-05-06T16:57:38.363499Z"
    },
    "papermill": {
     "duration": 0.087801,
     "end_time": "2022-05-06T16:57:38.366914",
     "exception": false,
     "start_time": "2022-05-06T16:57:38.279113",
     "status": "completed"
    },
    "tags": []
   },
   "outputs": [
    {
     "data": {
      "text/plain": [
       "0.9960105357290345"
      ]
     },
     "execution_count": 24,
     "metadata": {},
     "output_type": "execute_result"
    }
   ],
   "source": [
    "grid_search.best_score_"
   ]
  },
  {
   "cell_type": "code",
   "execution_count": null,
   "id": "33d1d59d",
   "metadata": {
    "papermill": {
     "duration": 0.078664,
     "end_time": "2022-05-06T16:57:38.526910",
     "exception": false,
     "start_time": "2022-05-06T16:57:38.448246",
     "status": "completed"
    },
    "tags": []
   },
   "outputs": [],
   "source": []
  }
 ],
 "metadata": {
  "kernelspec": {
   "display_name": "tf-flask-env",
   "language": "python",
   "name": "python3"
  },
  "language_info": {
   "codemirror_mode": {
    "name": "ipython",
    "version": 3
   },
   "file_extension": ".py",
   "mimetype": "text/x-python",
   "name": "python",
   "nbconvert_exporter": "python",
   "pygments_lexer": "ipython3",
   "version": "3.8.18"
  },
  "papermill": {
   "default_parameters": {},
   "duration": 176.507085,
   "end_time": "2022-05-06T16:57:41.228955",
   "environment_variables": {},
   "exception": null,
   "input_path": "__notebook__.ipynb",
   "output_path": "__notebook__.ipynb",
   "parameters": {},
   "start_time": "2022-05-06T16:54:44.721870",
   "version": "2.3.4"
  }
 },
 "nbformat": 4,
 "nbformat_minor": 5
}
